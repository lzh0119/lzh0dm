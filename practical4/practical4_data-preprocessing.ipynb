{
  "cells": [
    {
      "cell_type": "markdown",
      "id": "c203c183-cbc7-48fb-b9a7-6c6d724808c1",
      "metadata": {
        "id": "c203c183-cbc7-48fb-b9a7-6c6d724808c1"
      },
      "source": [
        "# Data Preprocessing\n",
        "### Prepared by: <a href=\"https://www.linkedin.com/in/a-kanaan/\">Dr Abdulkarim M. Jamal Kanaan</a>\n",
        "<hr>\n",
        "\n",
        "* Acknowledgements: I would like to acknowledge the book \"Hands-On Machine Learning with Scikit-Learn, Keras, and TensorFlow\" written by Aurélien Géron. This practical exercise was heavily influenced by Chapter 2 of the book, titled \"End-to-End Machine Learning Project.\"\n",
        "\n",
        "<table align=\"left\">\n",
        "  <td>\n",
        "    <a href=\"https://colab.research.google.com/github/a-kanaan/dm-practicals/blob/main/practical4/practical4_data-preprocessing.ipynb\" target=\"_parent\"><img src=\"https://colab.research.google.com/assets/colab-badge.svg\" alt=\"Open In Colab\"/></a>\n",
        "  </td>\n",
        "</table>"
      ]
    },
    {
      "cell_type": "markdown",
      "id": "eb91d138-156a-4a6b-b8fb-fae9c97950e8",
      "metadata": {
        "id": "eb91d138-156a-4a6b-b8fb-fae9c97950e8"
      },
      "source": [
        "Here are the some of the steps for data preprocessing:\n",
        "\n",
        "* Work on copies of the data to preserve the original dataset.\n",
        "1. Data cleaning:\n",
        "   - Address or remove outliers (if necessary).\n",
        "   - Fill in missing values (e.g., with zero, mean, median) or drop corresponding rows/columns.\n",
        "2. Optional: Perform feature selection.\n",
        "   - Eliminate attributes that do not contribute useful information to the task.\n",
        "3. Perform feature engineering when applicable.\n",
        "   - Convert continuous features into discrete ones if suitable.\n",
        "   - Apply relevant transformations to features (e.g., log(x), sqrt(x), x^2, etc.).\n",
        "   - Combine features to create new and promising attributes.\n",
        "4. Apply feature scaling to ensure consistent scales:\n",
        "   - Standardize or normalize the features as needed.\n",
        "   \n",
        "adapted from: https://github.com/ageron/handson-ml3/blob/main/ml-project-checklist.md"
      ]
    },
    {
      "cell_type": "markdown",
      "id": "42e7f075-5bc6-4c1d-9ecb-002f89e6a8d3",
      "metadata": {
        "id": "42e7f075-5bc6-4c1d-9ecb-002f89e6a8d3"
      },
      "source": [
        "## Loading the dataset"
      ]
    },
    {
      "cell_type": "code",
      "execution_count": 2,
      "id": "9d584889-2ab1-449d-b64f-c871d9bbc074",
      "metadata": {
        "id": "9d584889-2ab1-449d-b64f-c871d9bbc074"
      },
      "outputs": [],
      "source": [
        "from pathlib import Path\n",
        "import pandas as pd\n",
        "import tarfile\n",
        "import urllib.request\n",
        "import numpy as np\n",
        "import matplotlib.pyplot as plt\n",
        "import sklearn\n",
        "sklearn.set_config(display=\"diagram\")"
      ]
    },
    {
      "cell_type": "code",
      "execution_count": 3,
      "id": "55eeaf32-cae5-474d-9714-3a221fce9bfb",
      "metadata": {
        "colab": {
          "base_uri": "https://localhost:8080/",
          "height": 250
        },
        "id": "55eeaf32-cae5-474d-9714-3a221fce9bfb",
        "outputId": "7a9287c3-f8b7-4d27-8d89-28ed1dea8490"
      },
      "outputs": [
        {
          "output_type": "execute_result",
          "data": {
            "text/plain": [
              "   longitude  latitude  housing_median_age  total_rooms  total_bedrooms  \\\n",
              "0    -122.23     37.88                41.0        880.0           129.0   \n",
              "1    -122.22     37.86                21.0       7099.0          1106.0   \n",
              "2    -122.24     37.85                52.0       1467.0           190.0   \n",
              "3    -122.25     37.85                52.0       1274.0           235.0   \n",
              "4    -122.25     37.85                52.0       1627.0           280.0   \n",
              "\n",
              "   population  households  median_income  median_house_value ocean_proximity  \n",
              "0       322.0       126.0         8.3252            452600.0        NEAR BAY  \n",
              "1      2401.0      1138.0         8.3014            358500.0        NEAR BAY  \n",
              "2       496.0       177.0         7.2574            352100.0        NEAR BAY  \n",
              "3       558.0       219.0         5.6431            341300.0        NEAR BAY  \n",
              "4       565.0       259.0         3.8462            342200.0        NEAR BAY  "
            ],
            "text/html": [
              "\n",
              "\n",
              "  <div id=\"df-1edb1ae3-957a-4206-87b6-3c4d73e32914\">\n",
              "    <div class=\"colab-df-container\">\n",
              "      <div>\n",
              "<style scoped>\n",
              "    .dataframe tbody tr th:only-of-type {\n",
              "        vertical-align: middle;\n",
              "    }\n",
              "\n",
              "    .dataframe tbody tr th {\n",
              "        vertical-align: top;\n",
              "    }\n",
              "\n",
              "    .dataframe thead th {\n",
              "        text-align: right;\n",
              "    }\n",
              "</style>\n",
              "<table border=\"1\" class=\"dataframe\">\n",
              "  <thead>\n",
              "    <tr style=\"text-align: right;\">\n",
              "      <th></th>\n",
              "      <th>longitude</th>\n",
              "      <th>latitude</th>\n",
              "      <th>housing_median_age</th>\n",
              "      <th>total_rooms</th>\n",
              "      <th>total_bedrooms</th>\n",
              "      <th>population</th>\n",
              "      <th>households</th>\n",
              "      <th>median_income</th>\n",
              "      <th>median_house_value</th>\n",
              "      <th>ocean_proximity</th>\n",
              "    </tr>\n",
              "  </thead>\n",
              "  <tbody>\n",
              "    <tr>\n",
              "      <th>0</th>\n",
              "      <td>-122.23</td>\n",
              "      <td>37.88</td>\n",
              "      <td>41.0</td>\n",
              "      <td>880.0</td>\n",
              "      <td>129.0</td>\n",
              "      <td>322.0</td>\n",
              "      <td>126.0</td>\n",
              "      <td>8.3252</td>\n",
              "      <td>452600.0</td>\n",
              "      <td>NEAR BAY</td>\n",
              "    </tr>\n",
              "    <tr>\n",
              "      <th>1</th>\n",
              "      <td>-122.22</td>\n",
              "      <td>37.86</td>\n",
              "      <td>21.0</td>\n",
              "      <td>7099.0</td>\n",
              "      <td>1106.0</td>\n",
              "      <td>2401.0</td>\n",
              "      <td>1138.0</td>\n",
              "      <td>8.3014</td>\n",
              "      <td>358500.0</td>\n",
              "      <td>NEAR BAY</td>\n",
              "    </tr>\n",
              "    <tr>\n",
              "      <th>2</th>\n",
              "      <td>-122.24</td>\n",
              "      <td>37.85</td>\n",
              "      <td>52.0</td>\n",
              "      <td>1467.0</td>\n",
              "      <td>190.0</td>\n",
              "      <td>496.0</td>\n",
              "      <td>177.0</td>\n",
              "      <td>7.2574</td>\n",
              "      <td>352100.0</td>\n",
              "      <td>NEAR BAY</td>\n",
              "    </tr>\n",
              "    <tr>\n",
              "      <th>3</th>\n",
              "      <td>-122.25</td>\n",
              "      <td>37.85</td>\n",
              "      <td>52.0</td>\n",
              "      <td>1274.0</td>\n",
              "      <td>235.0</td>\n",
              "      <td>558.0</td>\n",
              "      <td>219.0</td>\n",
              "      <td>5.6431</td>\n",
              "      <td>341300.0</td>\n",
              "      <td>NEAR BAY</td>\n",
              "    </tr>\n",
              "    <tr>\n",
              "      <th>4</th>\n",
              "      <td>-122.25</td>\n",
              "      <td>37.85</td>\n",
              "      <td>52.0</td>\n",
              "      <td>1627.0</td>\n",
              "      <td>280.0</td>\n",
              "      <td>565.0</td>\n",
              "      <td>259.0</td>\n",
              "      <td>3.8462</td>\n",
              "      <td>342200.0</td>\n",
              "      <td>NEAR BAY</td>\n",
              "    </tr>\n",
              "  </tbody>\n",
              "</table>\n",
              "</div>\n",
              "      <button class=\"colab-df-convert\" onclick=\"convertToInteractive('df-1edb1ae3-957a-4206-87b6-3c4d73e32914')\"\n",
              "              title=\"Convert this dataframe to an interactive table.\"\n",
              "              style=\"display:none;\">\n",
              "\n",
              "  <svg xmlns=\"http://www.w3.org/2000/svg\" height=\"24px\"viewBox=\"0 0 24 24\"\n",
              "       width=\"24px\">\n",
              "    <path d=\"M0 0h24v24H0V0z\" fill=\"none\"/>\n",
              "    <path d=\"M18.56 5.44l.94 2.06.94-2.06 2.06-.94-2.06-.94-.94-2.06-.94 2.06-2.06.94zm-11 1L8.5 8.5l.94-2.06 2.06-.94-2.06-.94L8.5 2.5l-.94 2.06-2.06.94zm10 10l.94 2.06.94-2.06 2.06-.94-2.06-.94-.94-2.06-.94 2.06-2.06.94z\"/><path d=\"M17.41 7.96l-1.37-1.37c-.4-.4-.92-.59-1.43-.59-.52 0-1.04.2-1.43.59L10.3 9.45l-7.72 7.72c-.78.78-.78 2.05 0 2.83L4 21.41c.39.39.9.59 1.41.59.51 0 1.02-.2 1.41-.59l7.78-7.78 2.81-2.81c.8-.78.8-2.07 0-2.86zM5.41 20L4 18.59l7.72-7.72 1.47 1.35L5.41 20z\"/>\n",
              "  </svg>\n",
              "      </button>\n",
              "\n",
              "\n",
              "\n",
              "    <div id=\"df-68766659-da1a-4319-8643-be7b48fe8d15\">\n",
              "      <button class=\"colab-df-quickchart\" onclick=\"quickchart('df-68766659-da1a-4319-8643-be7b48fe8d15')\"\n",
              "              title=\"Suggest charts.\"\n",
              "              style=\"display:none;\">\n",
              "\n",
              "<svg xmlns=\"http://www.w3.org/2000/svg\" height=\"24px\"viewBox=\"0 0 24 24\"\n",
              "     width=\"24px\">\n",
              "    <g>\n",
              "        <path d=\"M19 3H5c-1.1 0-2 .9-2 2v14c0 1.1.9 2 2 2h14c1.1 0 2-.9 2-2V5c0-1.1-.9-2-2-2zM9 17H7v-7h2v7zm4 0h-2V7h2v10zm4 0h-2v-4h2v4z\"/>\n",
              "    </g>\n",
              "</svg>\n",
              "      </button>\n",
              "    </div>\n",
              "\n",
              "<style>\n",
              "  .colab-df-quickchart {\n",
              "    background-color: #E8F0FE;\n",
              "    border: none;\n",
              "    border-radius: 50%;\n",
              "    cursor: pointer;\n",
              "    display: none;\n",
              "    fill: #1967D2;\n",
              "    height: 32px;\n",
              "    padding: 0 0 0 0;\n",
              "    width: 32px;\n",
              "  }\n",
              "\n",
              "  .colab-df-quickchart:hover {\n",
              "    background-color: #E2EBFA;\n",
              "    box-shadow: 0px 1px 2px rgba(60, 64, 67, 0.3), 0px 1px 3px 1px rgba(60, 64, 67, 0.15);\n",
              "    fill: #174EA6;\n",
              "  }\n",
              "\n",
              "  [theme=dark] .colab-df-quickchart {\n",
              "    background-color: #3B4455;\n",
              "    fill: #D2E3FC;\n",
              "  }\n",
              "\n",
              "  [theme=dark] .colab-df-quickchart:hover {\n",
              "    background-color: #434B5C;\n",
              "    box-shadow: 0px 1px 3px 1px rgba(0, 0, 0, 0.15);\n",
              "    filter: drop-shadow(0px 1px 2px rgba(0, 0, 0, 0.3));\n",
              "    fill: #FFFFFF;\n",
              "  }\n",
              "</style>\n",
              "\n",
              "    <script>\n",
              "      async function quickchart(key) {\n",
              "        const containerElement = document.querySelector('#' + key);\n",
              "        const charts = await google.colab.kernel.invokeFunction(\n",
              "            'suggestCharts', [key], {});\n",
              "      }\n",
              "    </script>\n",
              "\n",
              "      <script>\n",
              "\n",
              "function displayQuickchartButton(domScope) {\n",
              "  let quickchartButtonEl =\n",
              "    domScope.querySelector('#df-68766659-da1a-4319-8643-be7b48fe8d15 button.colab-df-quickchart');\n",
              "  quickchartButtonEl.style.display =\n",
              "    google.colab.kernel.accessAllowed ? 'block' : 'none';\n",
              "}\n",
              "\n",
              "        displayQuickchartButton(document);\n",
              "      </script>\n",
              "      <style>\n",
              "    .colab-df-container {\n",
              "      display:flex;\n",
              "      flex-wrap:wrap;\n",
              "      gap: 12px;\n",
              "    }\n",
              "\n",
              "    .colab-df-convert {\n",
              "      background-color: #E8F0FE;\n",
              "      border: none;\n",
              "      border-radius: 50%;\n",
              "      cursor: pointer;\n",
              "      display: none;\n",
              "      fill: #1967D2;\n",
              "      height: 32px;\n",
              "      padding: 0 0 0 0;\n",
              "      width: 32px;\n",
              "    }\n",
              "\n",
              "    .colab-df-convert:hover {\n",
              "      background-color: #E2EBFA;\n",
              "      box-shadow: 0px 1px 2px rgba(60, 64, 67, 0.3), 0px 1px 3px 1px rgba(60, 64, 67, 0.15);\n",
              "      fill: #174EA6;\n",
              "    }\n",
              "\n",
              "    [theme=dark] .colab-df-convert {\n",
              "      background-color: #3B4455;\n",
              "      fill: #D2E3FC;\n",
              "    }\n",
              "\n",
              "    [theme=dark] .colab-df-convert:hover {\n",
              "      background-color: #434B5C;\n",
              "      box-shadow: 0px 1px 3px 1px rgba(0, 0, 0, 0.15);\n",
              "      filter: drop-shadow(0px 1px 2px rgba(0, 0, 0, 0.3));\n",
              "      fill: #FFFFFF;\n",
              "    }\n",
              "  </style>\n",
              "\n",
              "      <script>\n",
              "        const buttonEl =\n",
              "          document.querySelector('#df-1edb1ae3-957a-4206-87b6-3c4d73e32914 button.colab-df-convert');\n",
              "        buttonEl.style.display =\n",
              "          google.colab.kernel.accessAllowed ? 'block' : 'none';\n",
              "\n",
              "        async function convertToInteractive(key) {\n",
              "          const element = document.querySelector('#df-1edb1ae3-957a-4206-87b6-3c4d73e32914');\n",
              "          const dataTable =\n",
              "            await google.colab.kernel.invokeFunction('convertToInteractive',\n",
              "                                                     [key], {});\n",
              "          if (!dataTable) return;\n",
              "\n",
              "          const docLinkHtml = 'Like what you see? Visit the ' +\n",
              "            '<a target=\"_blank\" href=https://colab.research.google.com/notebooks/data_table.ipynb>data table notebook</a>'\n",
              "            + ' to learn more about interactive tables.';\n",
              "          element.innerHTML = '';\n",
              "          dataTable['output_type'] = 'display_data';\n",
              "          await google.colab.output.renderOutput(dataTable, element);\n",
              "          const docLink = document.createElement('div');\n",
              "          docLink.innerHTML = docLinkHtml;\n",
              "          element.appendChild(docLink);\n",
              "        }\n",
              "      </script>\n",
              "    </div>\n",
              "  </div>\n"
            ]
          },
          "metadata": {},
          "execution_count": 3
        }
      ],
      "source": [
        "def load_housing_data():\n",
        "    tarball_path = Path(\"datasets/housing.tgz\")\n",
        "    if not tarball_path.is_file():\n",
        "        Path(\"datasets\").mkdir(parents=True, exist_ok=True)\n",
        "        url = \"https://github.com/ageron/data/raw/main/housing.tgz\"\n",
        "        urllib.request.urlretrieve(url, tarball_path)\n",
        "        with tarfile.open(tarball_path) as housing_tarball:\n",
        "            housing_tarball.extractall(path=\"datasets\")\n",
        "    return pd.read_csv(Path(\"datasets/housing/housing.csv\"))\n",
        "\n",
        "housing = load_housing_data()\n",
        "housing.head()"
      ]
    },
    {
      "cell_type": "code",
      "execution_count": 4,
      "id": "0a8942ff-0b98-45bb-9429-4b3f1fb4bc44",
      "metadata": {
        "colab": {
          "base_uri": "https://localhost:8080/"
        },
        "id": "0a8942ff-0b98-45bb-9429-4b3f1fb4bc44",
        "outputId": "8b60df11-a648-4995-fe24-8b7a2df84822"
      },
      "outputs": [
        {
          "output_type": "stream",
          "name": "stdout",
          "text": [
            "Length of train_set: 16512\n",
            "Length of test_set: 4128\n"
          ]
        }
      ],
      "source": [
        "from sklearn.model_selection import train_test_split\n",
        "\n",
        "\n",
        "train_set, test_set = train_test_split(housing, test_size=0.2, random_state=42)\n",
        "\n",
        "print(\"Length of train_set:\", len(train_set))\n",
        "print(\"Length of test_set:\", len(test_set))"
      ]
    },
    {
      "cell_type": "markdown",
      "id": "cda3b410-c61e-4816-9eaa-4f1cbf093b5f",
      "metadata": {
        "id": "cda3b410-c61e-4816-9eaa-4f1cbf093b5f"
      },
      "source": [
        "## Experiment with Attribute Combinations (data exploration)\n",
        "\n",
        "Before preparing the data for machine learning algorithms, it is advisable to experiment with different attribute combinations. For instance, solely considering the total number of rooms in a district might not provide much insight unless you know the corresponding number of households. Therefore, it would be more meaningful to calculate the number of rooms per household. Likewise, solely examining the total number of bedrooms might not be very informative; it is more useful to compare it to the number of rooms. Additionally, considering the population per household could also yield valuable attribute combinations worth exploring."
      ]
    },
    {
      "cell_type": "code",
      "execution_count": 5,
      "id": "0abb5390-e623-4f33-8dbb-4247baecf3d9",
      "metadata": {
        "id": "0abb5390-e623-4f33-8dbb-4247baecf3d9"
      },
      "outputs": [],
      "source": [
        "train_set[\"rooms_per_house\"] = train_set[\"total_rooms\"] / train_set[\"households\"]\n",
        "train_set[\"bedrooms_ratio\"] = train_set[\"total_bedrooms\"] / train_set[\"total_rooms\"]\n",
        "train_set[\"people_per_house\"] = train_set[\"population\"] / train_set[\"households\"]"
      ]
    },
    {
      "cell_type": "code",
      "execution_count": 6,
      "id": "a8821d66-6dae-4f8a-b4f1-43f135e489d1",
      "metadata": {
        "colab": {
          "base_uri": "https://localhost:8080/"
        },
        "id": "a8821d66-6dae-4f8a-b4f1-43f135e489d1",
        "outputId": "c36d3d78-d283-4c5b-e3bb-bef04fd60172"
      },
      "outputs": [
        {
          "output_type": "execute_result",
          "data": {
            "text/plain": [
              "median_house_value    1.000000\n",
              "median_income         0.687013\n",
              "rooms_per_house       0.146940\n",
              "total_rooms           0.134060\n",
              "housing_median_age    0.104714\n",
              "households            0.065798\n",
              "total_bedrooms        0.049993\n",
              "people_per_house     -0.021577\n",
              "population           -0.025820\n",
              "longitude            -0.043603\n",
              "latitude             -0.146324\n",
              "bedrooms_ratio       -0.254817\n",
              "Name: median_house_value, dtype: float64"
            ]
          },
          "metadata": {},
          "execution_count": 6
        }
      ],
      "source": [
        "# Afterwards, it is recommended to revisit the correlation matrix analysis:\n",
        "corr_matrix = train_set.corr(numeric_only=True)\n",
        "corr_matrix[\"median_house_value\"].sort_values(ascending=False)"
      ]
    },
    {
      "cell_type": "markdown",
      "id": "aa1c58ee-3ae0-4e5a-8a44-5c19fddc3a0a",
      "metadata": {
        "id": "aa1c58ee-3ae0-4e5a-8a44-5c19fddc3a0a"
      },
      "source": [
        "Impressively, the newly created attribute, \"bedrooms_ratio,\" exhibits a higher correlation with the median house value compared to the total number of rooms or bedrooms. Evidently, houses with a lower bedroom/room ratio tend to command higher prices. Furthermore, the number of rooms per household proves to be more informative than the total number of rooms in a district. This observation aligns with the understanding that larger houses tend to be more expensive."
      ]
    },
    {
      "cell_type": "markdown",
      "id": "dbc9ccd3-f5a4-42a7-bc4e-7b939f4fc9a6",
      "metadata": {
        "id": "dbc9ccd3-f5a4-42a7-bc4e-7b939f4fc9a6"
      },
      "source": [
        "## Prepare the Data for Machine Learning Algorithms\n",
        "\n",
        "It is advisable to distinguish between the predictors and the labels in order to apply separate transformations to each. This is because the transformations applied to the predictors may not be applicable or desired for the target values. It's important to note that when using the `drop()` function, it creates a copy of the data and does not modify the original `train_set`."
      ]
    },
    {
      "cell_type": "code",
      "execution_count": 7,
      "id": "ac9ba312-2bf5-474f-9ded-0b842fc8da1b",
      "metadata": {
        "id": "ac9ba312-2bf5-474f-9ded-0b842fc8da1b"
      },
      "outputs": [],
      "source": [
        "housing = train_set.drop(\"median_house_value\", axis=1) #input features\n",
        "housing_labels = train_set[\"median_house_value\"].copy() #target variable (output variable/dependent variable)"
      ]
    },
    {
      "cell_type": "markdown",
      "id": "4fd3d2c7-c973-4c2a-b82e-87bb777bf8ae",
      "metadata": {
        "id": "4fd3d2c7-c973-4c2a-b82e-87bb777bf8ae"
      },
      "source": [
        "## Data Cleaning\n",
        "\n",
        "Majority of machine learning algorithms are unable to handle missing features, so it is necessary to address this issue. For instance, you have observed that the `total_bedrooms` attribute contains some missing values. There are three potential approaches to resolve this problem:\n",
        "\n",
        "1. Eliminate the districts with missing values. (row/records)\n",
        "2. Eliminate the entire attribute.\n",
        "3. Assign a specific value (such as zero, mean, median, etc.) to the missing values. This process is known as imputation.\n",
        "\n",
        "To carry out these actions efficiently, you can utilize Pandas DataFrame's `dropna()`, `drop()`, and `fillna()` methods."
      ]
    },
    {
      "cell_type": "code",
      "execution_count": 8,
      "id": "1f029b14-28c5-4255-aa3d-2aa12bac26ff",
      "metadata": {
        "id": "1f029b14-28c5-4255-aa3d-2aa12bac26ff"
      },
      "outputs": [],
      "source": [
        "housing.dropna(subset=[\"total_bedrooms\"], inplace=True) # option 1\n",
        "housing.drop(labels=[\"total_bedrooms\"], axis=1) # option 2\n",
        "median = housing[\"total_bedrooms\"].median() # option 3\n",
        "housing[\"total_bedrooms\"].fillna(median, inplace=True)"
      ]
    },
    {
      "cell_type": "markdown",
      "id": "a18cbe09-a22c-4e82-a008-d43ff3d7cd3c",
      "metadata": {
        "id": "a18cbe09-a22c-4e82-a008-d43ff3d7cd3c"
      },
      "source": [
        "You opt for option 3 as it is the least disruptive approach. However, instead of the previous code, you will utilize a convenient class from Scikit-Learn called `SimpleImputer`. The advantage of using this class is that it will retain the median value of each feature. This allows you to impute missing values not only in the training set but also in the validation set, test set, and any future data provided to the model. To employ `SimpleImputer`, you need to create an instance of the class and specify that you want to replace missing values in each attribute with the median value."
      ]
    },
    {
      "cell_type": "code",
      "execution_count": 9,
      "id": "f6eb23c6-6ba7-4c65-87a0-cba5ebaaf630",
      "metadata": {
        "id": "f6eb23c6-6ba7-4c65-87a0-cba5ebaaf630"
      },
      "outputs": [],
      "source": [
        "from sklearn.impute import SimpleImputer\n",
        "imputer = SimpleImputer(strategy=\"median\")"
      ]
    },
    {
      "cell_type": "markdown",
      "id": "b45337c5-9587-4121-8cf0-7918392eb00d",
      "metadata": {
        "id": "b45337c5-9587-4121-8cf0-7918392eb00d"
      },
      "source": [
        "As the median can only be calculated for numerical attributes, you will need to create a copy of the data that includes only the numerical attributes. This copy will exclude the text attribute \"ocean_proximity.\""
      ]
    },
    {
      "cell_type": "code",
      "execution_count": 10,
      "id": "dfb9a603-c88d-4e7c-bc22-3ef345f6f22c",
      "metadata": {
        "colab": {
          "base_uri": "https://localhost:8080/",
          "height": 75
        },
        "id": "dfb9a603-c88d-4e7c-bc22-3ef345f6f22c",
        "outputId": "e88d4f7d-f9ae-436e-9a77-7457d726d555"
      },
      "outputs": [
        {
          "output_type": "execute_result",
          "data": {
            "text/plain": [
              "SimpleImputer(strategy='median')"
            ],
            "text/html": [
              "<style>#sk-container-id-1 {color: black;background-color: white;}#sk-container-id-1 pre{padding: 0;}#sk-container-id-1 div.sk-toggleable {background-color: white;}#sk-container-id-1 label.sk-toggleable__label {cursor: pointer;display: block;width: 100%;margin-bottom: 0;padding: 0.3em;box-sizing: border-box;text-align: center;}#sk-container-id-1 label.sk-toggleable__label-arrow:before {content: \"▸\";float: left;margin-right: 0.25em;color: #696969;}#sk-container-id-1 label.sk-toggleable__label-arrow:hover:before {color: black;}#sk-container-id-1 div.sk-estimator:hover label.sk-toggleable__label-arrow:before {color: black;}#sk-container-id-1 div.sk-toggleable__content {max-height: 0;max-width: 0;overflow: hidden;text-align: left;background-color: #f0f8ff;}#sk-container-id-1 div.sk-toggleable__content pre {margin: 0.2em;color: black;border-radius: 0.25em;background-color: #f0f8ff;}#sk-container-id-1 input.sk-toggleable__control:checked~div.sk-toggleable__content {max-height: 200px;max-width: 100%;overflow: auto;}#sk-container-id-1 input.sk-toggleable__control:checked~label.sk-toggleable__label-arrow:before {content: \"▾\";}#sk-container-id-1 div.sk-estimator input.sk-toggleable__control:checked~label.sk-toggleable__label {background-color: #d4ebff;}#sk-container-id-1 div.sk-label input.sk-toggleable__control:checked~label.sk-toggleable__label {background-color: #d4ebff;}#sk-container-id-1 input.sk-hidden--visually {border: 0;clip: rect(1px 1px 1px 1px);clip: rect(1px, 1px, 1px, 1px);height: 1px;margin: -1px;overflow: hidden;padding: 0;position: absolute;width: 1px;}#sk-container-id-1 div.sk-estimator {font-family: monospace;background-color: #f0f8ff;border: 1px dotted black;border-radius: 0.25em;box-sizing: border-box;margin-bottom: 0.5em;}#sk-container-id-1 div.sk-estimator:hover {background-color: #d4ebff;}#sk-container-id-1 div.sk-parallel-item::after {content: \"\";width: 100%;border-bottom: 1px solid gray;flex-grow: 1;}#sk-container-id-1 div.sk-label:hover label.sk-toggleable__label {background-color: #d4ebff;}#sk-container-id-1 div.sk-serial::before {content: \"\";position: absolute;border-left: 1px solid gray;box-sizing: border-box;top: 0;bottom: 0;left: 50%;z-index: 0;}#sk-container-id-1 div.sk-serial {display: flex;flex-direction: column;align-items: center;background-color: white;padding-right: 0.2em;padding-left: 0.2em;position: relative;}#sk-container-id-1 div.sk-item {position: relative;z-index: 1;}#sk-container-id-1 div.sk-parallel {display: flex;align-items: stretch;justify-content: center;background-color: white;position: relative;}#sk-container-id-1 div.sk-item::before, #sk-container-id-1 div.sk-parallel-item::before {content: \"\";position: absolute;border-left: 1px solid gray;box-sizing: border-box;top: 0;bottom: 0;left: 50%;z-index: -1;}#sk-container-id-1 div.sk-parallel-item {display: flex;flex-direction: column;z-index: 1;position: relative;background-color: white;}#sk-container-id-1 div.sk-parallel-item:first-child::after {align-self: flex-end;width: 50%;}#sk-container-id-1 div.sk-parallel-item:last-child::after {align-self: flex-start;width: 50%;}#sk-container-id-1 div.sk-parallel-item:only-child::after {width: 0;}#sk-container-id-1 div.sk-dashed-wrapped {border: 1px dashed gray;margin: 0 0.4em 0.5em 0.4em;box-sizing: border-box;padding-bottom: 0.4em;background-color: white;}#sk-container-id-1 div.sk-label label {font-family: monospace;font-weight: bold;display: inline-block;line-height: 1.2em;}#sk-container-id-1 div.sk-label-container {text-align: center;}#sk-container-id-1 div.sk-container {/* jupyter's `normalize.less` sets `[hidden] { display: none; }` but bootstrap.min.css set `[hidden] { display: none !important; }` so we also need the `!important` here to be able to override the default hidden behavior on the sphinx rendered scikit-learn.org. See: https://github.com/scikit-learn/scikit-learn/issues/21755 */display: inline-block !important;position: relative;}#sk-container-id-1 div.sk-text-repr-fallback {display: none;}</style><div id=\"sk-container-id-1\" class=\"sk-top-container\"><div class=\"sk-text-repr-fallback\"><pre>SimpleImputer(strategy=&#x27;median&#x27;)</pre><b>In a Jupyter environment, please rerun this cell to show the HTML representation or trust the notebook. <br />On GitHub, the HTML representation is unable to render, please try loading this page with nbviewer.org.</b></div><div class=\"sk-container\" hidden><div class=\"sk-item\"><div class=\"sk-estimator sk-toggleable\"><input class=\"sk-toggleable__control sk-hidden--visually\" id=\"sk-estimator-id-1\" type=\"checkbox\" checked><label for=\"sk-estimator-id-1\" class=\"sk-toggleable__label sk-toggleable__label-arrow\">SimpleImputer</label><div class=\"sk-toggleable__content\"><pre>SimpleImputer(strategy=&#x27;median&#x27;)</pre></div></div></div></div></div>"
            ]
          },
          "metadata": {},
          "execution_count": 10
        }
      ],
      "source": [
        "import numpy as np\n",
        "housing_num = housing.select_dtypes(include=[np.number]) #use for training\n",
        "imputer.fit(housing_num)"
      ]
    },
    {
      "cell_type": "markdown",
      "id": "f9c7edf8-c134-47a0-a97c-e57a207ebb2b",
      "metadata": {
        "id": "f9c7edf8-c134-47a0-a97c-e57a207ebb2b"
      },
      "source": [
        "The imputer has computed the median of each attribute and stored the results in its `statistics_` instance variable. Although only the `total_bedrooms` attribute had missing values in the current data, it is important to consider the possibility of encountering missing values in new data once the system is deployed. Therefore, to ensure completeness and accuracy, it is recommended to apply the imputer to all the numerical attributes in the dataset."
      ]
    },
    {
      "cell_type": "code",
      "execution_count": 11,
      "id": "6094b6ca-c260-473c-be3c-fb35c4baf48c",
      "metadata": {
        "colab": {
          "base_uri": "https://localhost:8080/"
        },
        "id": "6094b6ca-c260-473c-be3c-fb35c4baf48c",
        "outputId": "6652ee4b-8713-4c47-af1b-b5cf26ffa881"
      },
      "outputs": [
        {
          "output_type": "stream",
          "name": "stdout",
          "text": [
            "[-1.18490000e+02  3.42500000e+01  2.90000000e+01  2.13000000e+03\n",
            "  4.37000000e+02  1.17000000e+03  4.11000000e+02  3.52680000e+00\n",
            "  5.23441397e+00  2.03058929e-01  2.81840796e+00]\n",
            "[-1.18490000e+02  3.42500000e+01  2.90000000e+01  2.13000000e+03\n",
            "  4.37000000e+02  1.17000000e+03  4.11000000e+02  3.52680000e+00\n",
            "  5.23441397e+00  2.03058929e-01  2.81840796e+00]\n"
          ]
        }
      ],
      "source": [
        "print(imputer.statistics_)\n",
        "print(housing_num.median().values)"
      ]
    },
    {
      "cell_type": "markdown",
      "id": "191cd1b5-0364-4ebd-a236-4f691655e4a8",
      "metadata": {
        "id": "191cd1b5-0364-4ebd-a236-4f691655e4a8"
      },
      "source": [
        "Now you can use this “trained” imputer to transform the training set by replacing\n",
        "missing values with the learned medians:"
      ]
    },
    {
      "cell_type": "code",
      "execution_count": 12,
      "id": "915be61e-191c-46e0-b67b-5fff7a731534",
      "metadata": {
        "id": "915be61e-191c-46e0-b67b-5fff7a731534"
      },
      "outputs": [],
      "source": [
        "#housing[]\n",
        "X = imputer.transform(housing_num)"
      ]
    },
    {
      "cell_type": "markdown",
      "id": "4455a80d-1884-4cd4-a3ff-8374a8a8836f",
      "metadata": {
        "id": "4455a80d-1884-4cd4-a3ff-8374a8a8836f"
      },
      "source": [
        "<i>Note: Alternatively, missing values can be replaced using different strategies. For example, you can choose to replace missing values with the mean value (using `strategy=\"mean\"`), the most frequent value (using `strategy=\"most_frequent\"`), or a constant value (using `strategy=\"constant\"` and specifying `fill_value`). The latter two strategies support non-numerical data, providing flexibility in handling missing values for both numerical and non-numerical attributes.</i>"
      ]
    },
    {
      "cell_type": "markdown",
      "id": "be983765-6d69-4705-86c6-1ec3ceac1dbf",
      "metadata": {
        "id": "be983765-6d69-4705-86c6-1ec3ceac1dbf"
      },
      "source": [
        "When using Scikit-Learn transformers, such as the `Imputer` class, the output is typically in the form of NumPy arrays or sparse matrices, even if Pandas DataFrames are used as input. As a result, the output of `imputer.transform(housing_num)` will be a NumPy array (`X`) without column names or an index. However, it is possible to wrap `X` in a DataFrame and retrieve the column names and index from `housing_num`."
      ]
    },
    {
      "cell_type": "code",
      "execution_count": 13,
      "id": "5ae94bc0-d30e-4f8d-ae6e-4179a51ef728",
      "metadata": {
        "colab": {
          "base_uri": "https://localhost:8080/",
          "height": 270
        },
        "id": "5ae94bc0-d30e-4f8d-ae6e-4179a51ef728",
        "outputId": "58802931-b60b-496f-ec82-479d621a5663"
      },
      "outputs": [
        {
          "output_type": "execute_result",
          "data": {
            "text/plain": [
              "       longitude  latitude  housing_median_age  total_rooms  total_bedrooms  \\\n",
              "14196    -117.22     32.75                34.0       6001.0          1111.0   \n",
              "8267     -117.03     32.69                10.0        901.0           163.0   \n",
              "17445    -122.27     37.74                28.0       6909.0          1554.0   \n",
              "14265    -121.82     37.25                25.0       4021.0           634.0   \n",
              "2271     -115.98     33.32                 8.0        240.0            46.0   \n",
              "\n",
              "       population  households  median_income  rooms_per_house  bedrooms_ratio  \\\n",
              "14196      2654.0      1072.0         4.5878         5.597948        0.185136   \n",
              "8267        698.0       167.0         4.6648         5.395210        0.180910   \n",
              "17445      2974.0      1484.0         3.6875         4.655660        0.224924   \n",
              "14265      2178.0       650.0         5.1663         6.186154        0.157672   \n",
              "2271         63.0        24.0         1.4688        10.000000        0.191667   \n",
              "\n",
              "       people_per_house  \n",
              "14196          2.475746  \n",
              "8267           4.179641  \n",
              "17445          2.004043  \n",
              "14265          3.350769  \n",
              "2271           2.625000  "
            ],
            "text/html": [
              "\n",
              "\n",
              "  <div id=\"df-1677773e-6bc6-478c-a435-54ceefd6c30d\">\n",
              "    <div class=\"colab-df-container\">\n",
              "      <div>\n",
              "<style scoped>\n",
              "    .dataframe tbody tr th:only-of-type {\n",
              "        vertical-align: middle;\n",
              "    }\n",
              "\n",
              "    .dataframe tbody tr th {\n",
              "        vertical-align: top;\n",
              "    }\n",
              "\n",
              "    .dataframe thead th {\n",
              "        text-align: right;\n",
              "    }\n",
              "</style>\n",
              "<table border=\"1\" class=\"dataframe\">\n",
              "  <thead>\n",
              "    <tr style=\"text-align: right;\">\n",
              "      <th></th>\n",
              "      <th>longitude</th>\n",
              "      <th>latitude</th>\n",
              "      <th>housing_median_age</th>\n",
              "      <th>total_rooms</th>\n",
              "      <th>total_bedrooms</th>\n",
              "      <th>population</th>\n",
              "      <th>households</th>\n",
              "      <th>median_income</th>\n",
              "      <th>rooms_per_house</th>\n",
              "      <th>bedrooms_ratio</th>\n",
              "      <th>people_per_house</th>\n",
              "    </tr>\n",
              "  </thead>\n",
              "  <tbody>\n",
              "    <tr>\n",
              "      <th>14196</th>\n",
              "      <td>-117.22</td>\n",
              "      <td>32.75</td>\n",
              "      <td>34.0</td>\n",
              "      <td>6001.0</td>\n",
              "      <td>1111.0</td>\n",
              "      <td>2654.0</td>\n",
              "      <td>1072.0</td>\n",
              "      <td>4.5878</td>\n",
              "      <td>5.597948</td>\n",
              "      <td>0.185136</td>\n",
              "      <td>2.475746</td>\n",
              "    </tr>\n",
              "    <tr>\n",
              "      <th>8267</th>\n",
              "      <td>-117.03</td>\n",
              "      <td>32.69</td>\n",
              "      <td>10.0</td>\n",
              "      <td>901.0</td>\n",
              "      <td>163.0</td>\n",
              "      <td>698.0</td>\n",
              "      <td>167.0</td>\n",
              "      <td>4.6648</td>\n",
              "      <td>5.395210</td>\n",
              "      <td>0.180910</td>\n",
              "      <td>4.179641</td>\n",
              "    </tr>\n",
              "    <tr>\n",
              "      <th>17445</th>\n",
              "      <td>-122.27</td>\n",
              "      <td>37.74</td>\n",
              "      <td>28.0</td>\n",
              "      <td>6909.0</td>\n",
              "      <td>1554.0</td>\n",
              "      <td>2974.0</td>\n",
              "      <td>1484.0</td>\n",
              "      <td>3.6875</td>\n",
              "      <td>4.655660</td>\n",
              "      <td>0.224924</td>\n",
              "      <td>2.004043</td>\n",
              "    </tr>\n",
              "    <tr>\n",
              "      <th>14265</th>\n",
              "      <td>-121.82</td>\n",
              "      <td>37.25</td>\n",
              "      <td>25.0</td>\n",
              "      <td>4021.0</td>\n",
              "      <td>634.0</td>\n",
              "      <td>2178.0</td>\n",
              "      <td>650.0</td>\n",
              "      <td>5.1663</td>\n",
              "      <td>6.186154</td>\n",
              "      <td>0.157672</td>\n",
              "      <td>3.350769</td>\n",
              "    </tr>\n",
              "    <tr>\n",
              "      <th>2271</th>\n",
              "      <td>-115.98</td>\n",
              "      <td>33.32</td>\n",
              "      <td>8.0</td>\n",
              "      <td>240.0</td>\n",
              "      <td>46.0</td>\n",
              "      <td>63.0</td>\n",
              "      <td>24.0</td>\n",
              "      <td>1.4688</td>\n",
              "      <td>10.000000</td>\n",
              "      <td>0.191667</td>\n",
              "      <td>2.625000</td>\n",
              "    </tr>\n",
              "  </tbody>\n",
              "</table>\n",
              "</div>\n",
              "      <button class=\"colab-df-convert\" onclick=\"convertToInteractive('df-1677773e-6bc6-478c-a435-54ceefd6c30d')\"\n",
              "              title=\"Convert this dataframe to an interactive table.\"\n",
              "              style=\"display:none;\">\n",
              "\n",
              "  <svg xmlns=\"http://www.w3.org/2000/svg\" height=\"24px\"viewBox=\"0 0 24 24\"\n",
              "       width=\"24px\">\n",
              "    <path d=\"M0 0h24v24H0V0z\" fill=\"none\"/>\n",
              "    <path d=\"M18.56 5.44l.94 2.06.94-2.06 2.06-.94-2.06-.94-.94-2.06-.94 2.06-2.06.94zm-11 1L8.5 8.5l.94-2.06 2.06-.94-2.06-.94L8.5 2.5l-.94 2.06-2.06.94zm10 10l.94 2.06.94-2.06 2.06-.94-2.06-.94-.94-2.06-.94 2.06-2.06.94z\"/><path d=\"M17.41 7.96l-1.37-1.37c-.4-.4-.92-.59-1.43-.59-.52 0-1.04.2-1.43.59L10.3 9.45l-7.72 7.72c-.78.78-.78 2.05 0 2.83L4 21.41c.39.39.9.59 1.41.59.51 0 1.02-.2 1.41-.59l7.78-7.78 2.81-2.81c.8-.78.8-2.07 0-2.86zM5.41 20L4 18.59l7.72-7.72 1.47 1.35L5.41 20z\"/>\n",
              "  </svg>\n",
              "      </button>\n",
              "\n",
              "\n",
              "\n",
              "    <div id=\"df-56153304-b760-45e3-b448-622532a57fa7\">\n",
              "      <button class=\"colab-df-quickchart\" onclick=\"quickchart('df-56153304-b760-45e3-b448-622532a57fa7')\"\n",
              "              title=\"Suggest charts.\"\n",
              "              style=\"display:none;\">\n",
              "\n",
              "<svg xmlns=\"http://www.w3.org/2000/svg\" height=\"24px\"viewBox=\"0 0 24 24\"\n",
              "     width=\"24px\">\n",
              "    <g>\n",
              "        <path d=\"M19 3H5c-1.1 0-2 .9-2 2v14c0 1.1.9 2 2 2h14c1.1 0 2-.9 2-2V5c0-1.1-.9-2-2-2zM9 17H7v-7h2v7zm4 0h-2V7h2v10zm4 0h-2v-4h2v4z\"/>\n",
              "    </g>\n",
              "</svg>\n",
              "      </button>\n",
              "    </div>\n",
              "\n",
              "<style>\n",
              "  .colab-df-quickchart {\n",
              "    background-color: #E8F0FE;\n",
              "    border: none;\n",
              "    border-radius: 50%;\n",
              "    cursor: pointer;\n",
              "    display: none;\n",
              "    fill: #1967D2;\n",
              "    height: 32px;\n",
              "    padding: 0 0 0 0;\n",
              "    width: 32px;\n",
              "  }\n",
              "\n",
              "  .colab-df-quickchart:hover {\n",
              "    background-color: #E2EBFA;\n",
              "    box-shadow: 0px 1px 2px rgba(60, 64, 67, 0.3), 0px 1px 3px 1px rgba(60, 64, 67, 0.15);\n",
              "    fill: #174EA6;\n",
              "  }\n",
              "\n",
              "  [theme=dark] .colab-df-quickchart {\n",
              "    background-color: #3B4455;\n",
              "    fill: #D2E3FC;\n",
              "  }\n",
              "\n",
              "  [theme=dark] .colab-df-quickchart:hover {\n",
              "    background-color: #434B5C;\n",
              "    box-shadow: 0px 1px 3px 1px rgba(0, 0, 0, 0.15);\n",
              "    filter: drop-shadow(0px 1px 2px rgba(0, 0, 0, 0.3));\n",
              "    fill: #FFFFFF;\n",
              "  }\n",
              "</style>\n",
              "\n",
              "    <script>\n",
              "      async function quickchart(key) {\n",
              "        const containerElement = document.querySelector('#' + key);\n",
              "        const charts = await google.colab.kernel.invokeFunction(\n",
              "            'suggestCharts', [key], {});\n",
              "      }\n",
              "    </script>\n",
              "\n",
              "      <script>\n",
              "\n",
              "function displayQuickchartButton(domScope) {\n",
              "  let quickchartButtonEl =\n",
              "    domScope.querySelector('#df-56153304-b760-45e3-b448-622532a57fa7 button.colab-df-quickchart');\n",
              "  quickchartButtonEl.style.display =\n",
              "    google.colab.kernel.accessAllowed ? 'block' : 'none';\n",
              "}\n",
              "\n",
              "        displayQuickchartButton(document);\n",
              "      </script>\n",
              "      <style>\n",
              "    .colab-df-container {\n",
              "      display:flex;\n",
              "      flex-wrap:wrap;\n",
              "      gap: 12px;\n",
              "    }\n",
              "\n",
              "    .colab-df-convert {\n",
              "      background-color: #E8F0FE;\n",
              "      border: none;\n",
              "      border-radius: 50%;\n",
              "      cursor: pointer;\n",
              "      display: none;\n",
              "      fill: #1967D2;\n",
              "      height: 32px;\n",
              "      padding: 0 0 0 0;\n",
              "      width: 32px;\n",
              "    }\n",
              "\n",
              "    .colab-df-convert:hover {\n",
              "      background-color: #E2EBFA;\n",
              "      box-shadow: 0px 1px 2px rgba(60, 64, 67, 0.3), 0px 1px 3px 1px rgba(60, 64, 67, 0.15);\n",
              "      fill: #174EA6;\n",
              "    }\n",
              "\n",
              "    [theme=dark] .colab-df-convert {\n",
              "      background-color: #3B4455;\n",
              "      fill: #D2E3FC;\n",
              "    }\n",
              "\n",
              "    [theme=dark] .colab-df-convert:hover {\n",
              "      background-color: #434B5C;\n",
              "      box-shadow: 0px 1px 3px 1px rgba(0, 0, 0, 0.15);\n",
              "      filter: drop-shadow(0px 1px 2px rgba(0, 0, 0, 0.3));\n",
              "      fill: #FFFFFF;\n",
              "    }\n",
              "  </style>\n",
              "\n",
              "      <script>\n",
              "        const buttonEl =\n",
              "          document.querySelector('#df-1677773e-6bc6-478c-a435-54ceefd6c30d button.colab-df-convert');\n",
              "        buttonEl.style.display =\n",
              "          google.colab.kernel.accessAllowed ? 'block' : 'none';\n",
              "\n",
              "        async function convertToInteractive(key) {\n",
              "          const element = document.querySelector('#df-1677773e-6bc6-478c-a435-54ceefd6c30d');\n",
              "          const dataTable =\n",
              "            await google.colab.kernel.invokeFunction('convertToInteractive',\n",
              "                                                     [key], {});\n",
              "          if (!dataTable) return;\n",
              "\n",
              "          const docLinkHtml = 'Like what you see? Visit the ' +\n",
              "            '<a target=\"_blank\" href=https://colab.research.google.com/notebooks/data_table.ipynb>data table notebook</a>'\n",
              "            + ' to learn more about interactive tables.';\n",
              "          element.innerHTML = '';\n",
              "          dataTable['output_type'] = 'display_data';\n",
              "          await google.colab.output.renderOutput(dataTable, element);\n",
              "          const docLink = document.createElement('div');\n",
              "          docLink.innerHTML = docLinkHtml;\n",
              "          element.appendChild(docLink);\n",
              "        }\n",
              "      </script>\n",
              "    </div>\n",
              "  </div>\n"
            ]
          },
          "metadata": {},
          "execution_count": 13
        }
      ],
      "source": [
        "housing_tr = pd.DataFrame(X, columns=housing_num.columns, index=housing_num.index)\n",
        "housing_tr.head()"
      ]
    },
    {
      "cell_type": "markdown",
      "id": "7c24035d-4cfd-4156-8491-5967ce09df17",
      "metadata": {
        "id": "7c24035d-4cfd-4156-8491-5967ce09df17"
      },
      "source": [
        "## Feature Encoding: Handling Text and Categorical Attributes\n",
        "Up until now, our focus has been solely on numerical attributes. However, it's important to note that your data may also include text attributes. In this particular dataset, there is one such attribute: \"ocean_proximity.\""
      ]
    },
    {
      "cell_type": "code",
      "execution_count": 14,
      "id": "54ccc3c6-cf47-4aff-a318-5b2e9e01f4a1",
      "metadata": {
        "colab": {
          "base_uri": "https://localhost:8080/",
          "height": 300
        },
        "id": "54ccc3c6-cf47-4aff-a318-5b2e9e01f4a1",
        "outputId": "2efe871d-f62a-4036-d06d-4cd2077e653d"
      },
      "outputs": [
        {
          "output_type": "execute_result",
          "data": {
            "text/plain": [
              "      ocean_proximity\n",
              "14196      NEAR OCEAN\n",
              "8267       NEAR OCEAN\n",
              "17445        NEAR BAY\n",
              "14265       <1H OCEAN\n",
              "2271           INLAND\n",
              "17848        NEAR BAY\n",
              "6252           INLAND\n",
              "9389        <1H OCEAN"
            ],
            "text/html": [
              "\n",
              "\n",
              "  <div id=\"df-7711f468-ec80-4edc-85cc-36da96165156\">\n",
              "    <div class=\"colab-df-container\">\n",
              "      <div>\n",
              "<style scoped>\n",
              "    .dataframe tbody tr th:only-of-type {\n",
              "        vertical-align: middle;\n",
              "    }\n",
              "\n",
              "    .dataframe tbody tr th {\n",
              "        vertical-align: top;\n",
              "    }\n",
              "\n",
              "    .dataframe thead th {\n",
              "        text-align: right;\n",
              "    }\n",
              "</style>\n",
              "<table border=\"1\" class=\"dataframe\">\n",
              "  <thead>\n",
              "    <tr style=\"text-align: right;\">\n",
              "      <th></th>\n",
              "      <th>ocean_proximity</th>\n",
              "    </tr>\n",
              "  </thead>\n",
              "  <tbody>\n",
              "    <tr>\n",
              "      <th>14196</th>\n",
              "      <td>NEAR OCEAN</td>\n",
              "    </tr>\n",
              "    <tr>\n",
              "      <th>8267</th>\n",
              "      <td>NEAR OCEAN</td>\n",
              "    </tr>\n",
              "    <tr>\n",
              "      <th>17445</th>\n",
              "      <td>NEAR BAY</td>\n",
              "    </tr>\n",
              "    <tr>\n",
              "      <th>14265</th>\n",
              "      <td>&lt;1H OCEAN</td>\n",
              "    </tr>\n",
              "    <tr>\n",
              "      <th>2271</th>\n",
              "      <td>INLAND</td>\n",
              "    </tr>\n",
              "    <tr>\n",
              "      <th>17848</th>\n",
              "      <td>NEAR BAY</td>\n",
              "    </tr>\n",
              "    <tr>\n",
              "      <th>6252</th>\n",
              "      <td>INLAND</td>\n",
              "    </tr>\n",
              "    <tr>\n",
              "      <th>9389</th>\n",
              "      <td>&lt;1H OCEAN</td>\n",
              "    </tr>\n",
              "  </tbody>\n",
              "</table>\n",
              "</div>\n",
              "      <button class=\"colab-df-convert\" onclick=\"convertToInteractive('df-7711f468-ec80-4edc-85cc-36da96165156')\"\n",
              "              title=\"Convert this dataframe to an interactive table.\"\n",
              "              style=\"display:none;\">\n",
              "\n",
              "  <svg xmlns=\"http://www.w3.org/2000/svg\" height=\"24px\"viewBox=\"0 0 24 24\"\n",
              "       width=\"24px\">\n",
              "    <path d=\"M0 0h24v24H0V0z\" fill=\"none\"/>\n",
              "    <path d=\"M18.56 5.44l.94 2.06.94-2.06 2.06-.94-2.06-.94-.94-2.06-.94 2.06-2.06.94zm-11 1L8.5 8.5l.94-2.06 2.06-.94-2.06-.94L8.5 2.5l-.94 2.06-2.06.94zm10 10l.94 2.06.94-2.06 2.06-.94-2.06-.94-.94-2.06-.94 2.06-2.06.94z\"/><path d=\"M17.41 7.96l-1.37-1.37c-.4-.4-.92-.59-1.43-.59-.52 0-1.04.2-1.43.59L10.3 9.45l-7.72 7.72c-.78.78-.78 2.05 0 2.83L4 21.41c.39.39.9.59 1.41.59.51 0 1.02-.2 1.41-.59l7.78-7.78 2.81-2.81c.8-.78.8-2.07 0-2.86zM5.41 20L4 18.59l7.72-7.72 1.47 1.35L5.41 20z\"/>\n",
              "  </svg>\n",
              "      </button>\n",
              "\n",
              "\n",
              "\n",
              "    <div id=\"df-970ca61e-8c6a-432c-8f25-e5d25095033e\">\n",
              "      <button class=\"colab-df-quickchart\" onclick=\"quickchart('df-970ca61e-8c6a-432c-8f25-e5d25095033e')\"\n",
              "              title=\"Suggest charts.\"\n",
              "              style=\"display:none;\">\n",
              "\n",
              "<svg xmlns=\"http://www.w3.org/2000/svg\" height=\"24px\"viewBox=\"0 0 24 24\"\n",
              "     width=\"24px\">\n",
              "    <g>\n",
              "        <path d=\"M19 3H5c-1.1 0-2 .9-2 2v14c0 1.1.9 2 2 2h14c1.1 0 2-.9 2-2V5c0-1.1-.9-2-2-2zM9 17H7v-7h2v7zm4 0h-2V7h2v10zm4 0h-2v-4h2v4z\"/>\n",
              "    </g>\n",
              "</svg>\n",
              "      </button>\n",
              "    </div>\n",
              "\n",
              "<style>\n",
              "  .colab-df-quickchart {\n",
              "    background-color: #E8F0FE;\n",
              "    border: none;\n",
              "    border-radius: 50%;\n",
              "    cursor: pointer;\n",
              "    display: none;\n",
              "    fill: #1967D2;\n",
              "    height: 32px;\n",
              "    padding: 0 0 0 0;\n",
              "    width: 32px;\n",
              "  }\n",
              "\n",
              "  .colab-df-quickchart:hover {\n",
              "    background-color: #E2EBFA;\n",
              "    box-shadow: 0px 1px 2px rgba(60, 64, 67, 0.3), 0px 1px 3px 1px rgba(60, 64, 67, 0.15);\n",
              "    fill: #174EA6;\n",
              "  }\n",
              "\n",
              "  [theme=dark] .colab-df-quickchart {\n",
              "    background-color: #3B4455;\n",
              "    fill: #D2E3FC;\n",
              "  }\n",
              "\n",
              "  [theme=dark] .colab-df-quickchart:hover {\n",
              "    background-color: #434B5C;\n",
              "    box-shadow: 0px 1px 3px 1px rgba(0, 0, 0, 0.15);\n",
              "    filter: drop-shadow(0px 1px 2px rgba(0, 0, 0, 0.3));\n",
              "    fill: #FFFFFF;\n",
              "  }\n",
              "</style>\n",
              "\n",
              "    <script>\n",
              "      async function quickchart(key) {\n",
              "        const containerElement = document.querySelector('#' + key);\n",
              "        const charts = await google.colab.kernel.invokeFunction(\n",
              "            'suggestCharts', [key], {});\n",
              "      }\n",
              "    </script>\n",
              "\n",
              "      <script>\n",
              "\n",
              "function displayQuickchartButton(domScope) {\n",
              "  let quickchartButtonEl =\n",
              "    domScope.querySelector('#df-970ca61e-8c6a-432c-8f25-e5d25095033e button.colab-df-quickchart');\n",
              "  quickchartButtonEl.style.display =\n",
              "    google.colab.kernel.accessAllowed ? 'block' : 'none';\n",
              "}\n",
              "\n",
              "        displayQuickchartButton(document);\n",
              "      </script>\n",
              "      <style>\n",
              "    .colab-df-container {\n",
              "      display:flex;\n",
              "      flex-wrap:wrap;\n",
              "      gap: 12px;\n",
              "    }\n",
              "\n",
              "    .colab-df-convert {\n",
              "      background-color: #E8F0FE;\n",
              "      border: none;\n",
              "      border-radius: 50%;\n",
              "      cursor: pointer;\n",
              "      display: none;\n",
              "      fill: #1967D2;\n",
              "      height: 32px;\n",
              "      padding: 0 0 0 0;\n",
              "      width: 32px;\n",
              "    }\n",
              "\n",
              "    .colab-df-convert:hover {\n",
              "      background-color: #E2EBFA;\n",
              "      box-shadow: 0px 1px 2px rgba(60, 64, 67, 0.3), 0px 1px 3px 1px rgba(60, 64, 67, 0.15);\n",
              "      fill: #174EA6;\n",
              "    }\n",
              "\n",
              "    [theme=dark] .colab-df-convert {\n",
              "      background-color: #3B4455;\n",
              "      fill: #D2E3FC;\n",
              "    }\n",
              "\n",
              "    [theme=dark] .colab-df-convert:hover {\n",
              "      background-color: #434B5C;\n",
              "      box-shadow: 0px 1px 3px 1px rgba(0, 0, 0, 0.15);\n",
              "      filter: drop-shadow(0px 1px 2px rgba(0, 0, 0, 0.3));\n",
              "      fill: #FFFFFF;\n",
              "    }\n",
              "  </style>\n",
              "\n",
              "      <script>\n",
              "        const buttonEl =\n",
              "          document.querySelector('#df-7711f468-ec80-4edc-85cc-36da96165156 button.colab-df-convert');\n",
              "        buttonEl.style.display =\n",
              "          google.colab.kernel.accessAllowed ? 'block' : 'none';\n",
              "\n",
              "        async function convertToInteractive(key) {\n",
              "          const element = document.querySelector('#df-7711f468-ec80-4edc-85cc-36da96165156');\n",
              "          const dataTable =\n",
              "            await google.colab.kernel.invokeFunction('convertToInteractive',\n",
              "                                                     [key], {});\n",
              "          if (!dataTable) return;\n",
              "\n",
              "          const docLinkHtml = 'Like what you see? Visit the ' +\n",
              "            '<a target=\"_blank\" href=https://colab.research.google.com/notebooks/data_table.ipynb>data table notebook</a>'\n",
              "            + ' to learn more about interactive tables.';\n",
              "          element.innerHTML = '';\n",
              "          dataTable['output_type'] = 'display_data';\n",
              "          await google.colab.output.renderOutput(dataTable, element);\n",
              "          const docLink = document.createElement('div');\n",
              "          docLink.innerHTML = docLinkHtml;\n",
              "          element.appendChild(docLink);\n",
              "        }\n",
              "      </script>\n",
              "    </div>\n",
              "  </div>\n"
            ]
          },
          "metadata": {},
          "execution_count": 14
        }
      ],
      "source": [
        "housing_cat = housing[[\"ocean_proximity\"]]\n",
        "housing_cat.head(8)"
      ]
    },
    {
      "cell_type": "markdown",
      "id": "0f3892fe-9068-41c2-b6c7-a1b92d885202",
      "metadata": {
        "id": "0f3892fe-9068-41c2-b6c7-a1b92d885202"
      },
      "source": [
        "The \"ocean_proximity\" attribute in the dataset does not consist of arbitrary text but instead has a finite number of distinct values, each representing a specific category. As a result, this attribute is considered categorical. Since most machine learning algorithms operate more effectively with numerical data, it is necessary to convert these categories from text to numerical representation. To accomplish this, we can utilize Scikit-Learn's `OrdinalEncoder` and `OneHotEncoder` classes."
      ]
    },
    {
      "cell_type": "markdown",
      "id": "e1dec288-a70c-43b6-8fcf-c2ecd05e4f1e",
      "metadata": {
        "id": "e1dec288-a70c-43b6-8fcf-c2ecd05e4f1e"
      },
      "source": [
        "### Ordinal Features\n",
        "The OrdinalEncoder is typically used when you have categorical features with an inherent order or hierarchy. It is suitable for encoding categorical variables where the relative ordering between categories holds significance."
      ]
    },
    {
      "cell_type": "code",
      "execution_count": 15,
      "id": "6cb25a9e-6a14-4e7f-909c-0680e48933cf",
      "metadata": {
        "colab": {
          "base_uri": "https://localhost:8080/"
        },
        "id": "6cb25a9e-6a14-4e7f-909c-0680e48933cf",
        "outputId": "cd20ec6c-b48a-4445-96d4-1f8de87d5e82"
      },
      "outputs": [
        {
          "output_type": "execute_result",
          "data": {
            "text/plain": [
              "array([[4.],\n",
              "       [4.],\n",
              "       [3.],\n",
              "       ...,\n",
              "       [1.],\n",
              "       [1.],\n",
              "       [0.]])"
            ]
          },
          "metadata": {},
          "execution_count": 15
        }
      ],
      "source": [
        "from sklearn.preprocessing import OrdinalEncoder\n",
        "ordinal_encoder = OrdinalEncoder()\n",
        "\n",
        "ordinal_encoder.fit(housing_cat)\n",
        "housing_cat_encoded = ordinal_encoder.fit_transform(housing_cat)\n",
        "\n",
        "# OR OR OR OR OR\n",
        "housing_cat_encoded = ordinal_encoder.fit_transform(housing_cat)\n",
        "\n",
        "housing_cat_encoded"
      ]
    },
    {
      "cell_type": "markdown",
      "id": "64045ac3-7ee4-4121-b5e0-f8cdd39d5259",
      "metadata": {
        "id": "64045ac3-7ee4-4121-b5e0-f8cdd39d5259"
      },
      "source": [
        "The list of categories for categorical attributes can be obtained using the `categories_` instance variable. This variable contains a 1D array or list of categories for each categorical attribute."
      ]
    },
    {
      "cell_type": "code",
      "source": [
        "housing[\"ocean_proximity\"].unique()"
      ],
      "metadata": {
        "colab": {
          "base_uri": "https://localhost:8080/"
        },
        "id": "BIdPoxAhp3Zr",
        "outputId": "cda3fee6-cb31-4ddc-8213-443fe8e5a192"
      },
      "id": "BIdPoxAhp3Zr",
      "execution_count": 16,
      "outputs": [
        {
          "output_type": "execute_result",
          "data": {
            "text/plain": [
              "array(['NEAR OCEAN', 'NEAR BAY', '<1H OCEAN', 'INLAND', 'ISLAND'],\n",
              "      dtype=object)"
            ]
          },
          "metadata": {},
          "execution_count": 16
        }
      ]
    },
    {
      "cell_type": "code",
      "execution_count": 17,
      "id": "4ffc18fe-4429-4f7f-bcd0-ebb1b4a22adb",
      "metadata": {
        "colab": {
          "base_uri": "https://localhost:8080/"
        },
        "id": "4ffc18fe-4429-4f7f-bcd0-ebb1b4a22adb",
        "outputId": "8769ce6a-99d6-4337-846e-14103b8f328a"
      },
      "outputs": [
        {
          "output_type": "execute_result",
          "data": {
            "text/plain": [
              "[array(['<1H OCEAN', 'INLAND', 'ISLAND', 'NEAR BAY', 'NEAR OCEAN'],\n",
              "       dtype=object)]"
            ]
          },
          "metadata": {},
          "execution_count": 17
        }
      ],
      "source": [
        "ordinal_encoder.categories_"
      ]
    },
    {
      "cell_type": "markdown",
      "id": "c5c3ec8f-fe12-45f9-ba63-b086668cb7a0",
      "metadata": {
        "id": "c5c3ec8f-fe12-45f9-ba63-b086668cb7a0"
      },
      "source": [
        "### Nominal Features\n",
        "The OneHotEncoder is used when you have categorical features that do not have a natural ordering or hierarchy. It is suitable for encoding categorical variables where there is no inherent order or relationship between the categories."
      ]
    },
    {
      "cell_type": "code",
      "execution_count": 18,
      "id": "f252cd49-69c2-4bd5-855d-a51791b87156",
      "metadata": {
        "colab": {
          "base_uri": "https://localhost:8080/"
        },
        "id": "f252cd49-69c2-4bd5-855d-a51791b87156",
        "outputId": "3132a17f-c9e3-4952-bb2a-e12171d586cf"
      },
      "outputs": [
        {
          "output_type": "execute_result",
          "data": {
            "text/plain": [
              "<16349x5 sparse matrix of type '<class 'numpy.float64'>'\n",
              "\twith 16349 stored elements in Compressed Sparse Row format>"
            ]
          },
          "metadata": {},
          "execution_count": 18
        }
      ],
      "source": [
        "from sklearn.preprocessing import OneHotEncoder\n",
        "cat_encoder = OneHotEncoder()\n",
        "housing_cat_1hot = cat_encoder.fit_transform(housing_cat)\n",
        "housing_cat_1hot"
      ]
    },
    {
      "cell_type": "markdown",
      "id": "e9737d9e-944a-4df3-ae91-3e3f90647c05",
      "metadata": {
        "id": "e9737d9e-944a-4df3-ae91-3e3f90647c05"
      },
      "source": [
        "A sparse matrix is an efficient way to represent matrices that primarily consist of zeros. It stores only the nonzero values and their positions internally, resulting in significant space savings. While you can utilize a sparse matrix similar to a standard 2D array, if you wish to convert it to a _dense_ NumPy array, you can simply use the `toarray()` method."
      ]
    },
    {
      "cell_type": "code",
      "execution_count": 19,
      "id": "fb2f9efe-cce2-41e8-bee0-f445375d5fa2",
      "metadata": {
        "colab": {
          "base_uri": "https://localhost:8080/"
        },
        "id": "fb2f9efe-cce2-41e8-bee0-f445375d5fa2",
        "outputId": "db4f1cd4-afb8-42be-ff15-6ee01481adae"
      },
      "outputs": [
        {
          "output_type": "execute_result",
          "data": {
            "text/plain": [
              "array([[0., 0., 0., 0., 1.],\n",
              "       [0., 0., 0., 0., 1.],\n",
              "       [0., 0., 0., 1., 0.],\n",
              "       ...,\n",
              "       [0., 1., 0., 0., 0.],\n",
              "       [0., 1., 0., 0., 0.],\n",
              "       [1., 0., 0., 0., 0.]])"
            ]
          },
          "metadata": {},
          "execution_count": 19
        }
      ],
      "source": [
        "housing_cat_1hot.toarray()"
      ]
    },
    {
      "cell_type": "markdown",
      "id": "ac855257-7024-4e28-9ac9-c30229573468",
      "metadata": {
        "id": "ac855257-7024-4e28-9ac9-c30229573468"
      },
      "source": [
        "Similar to the `OrdinalEncoder`, you can obtain the list of categories by accessing the `categories_` instance variable of the encoder."
      ]
    },
    {
      "cell_type": "code",
      "execution_count": 20,
      "id": "02abc575-2167-461e-9d4c-13a6681a744e",
      "metadata": {
        "colab": {
          "base_uri": "https://localhost:8080/"
        },
        "id": "02abc575-2167-461e-9d4c-13a6681a744e",
        "outputId": "ec385b59-443b-41f8-d8c1-c0018f1d42b2"
      },
      "outputs": [
        {
          "output_type": "execute_result",
          "data": {
            "text/plain": [
              "[array(['<1H OCEAN', 'INLAND', 'ISLAND', 'NEAR BAY', 'NEAR OCEAN'],\n",
              "       dtype=object)]"
            ]
          },
          "metadata": {},
          "execution_count": 20
        }
      ],
      "source": [
        "cat_encoder.categories_"
      ]
    },
    {
      "cell_type": "markdown",
      "id": "806a3f80-25e7-45ad-97f2-9b6b03404a6b",
      "metadata": {
        "id": "806a3f80-25e7-45ad-97f2-9b6b03404a6b"
      },
      "source": [
        "When fitting a Scikit-Learn estimator with a DataFrame, the estimator saves the column names in the `feature_names_in_` attribute. Subsequently, Scikit-Learn guarantees that any DataFrame passed to the estimator (e.g., for `transform()` or `predict()`) must have the same column names. Transformers also offer a `get_feature_names_out()` method that can be used to construct a DataFrame based on the transformer's output."
      ]
    },
    {
      "cell_type": "code",
      "execution_count": 21,
      "id": "c1963f5b-00db-4168-a962-4489ec3009ac",
      "metadata": {
        "colab": {
          "base_uri": "https://localhost:8080/"
        },
        "id": "c1963f5b-00db-4168-a962-4489ec3009ac",
        "outputId": "21eb4dc6-415a-41fd-86ad-3c734d89c65e"
      },
      "outputs": [
        {
          "output_type": "execute_result",
          "data": {
            "text/plain": [
              "array(['ocean_proximity'], dtype=object)"
            ]
          },
          "metadata": {},
          "execution_count": 21
        }
      ],
      "source": [
        "cat_encoder.feature_names_in_"
      ]
    },
    {
      "cell_type": "code",
      "execution_count": 22,
      "id": "6feef560-b2d3-456e-a161-87ea5bfa0e05",
      "metadata": {
        "colab": {
          "base_uri": "https://localhost:8080/"
        },
        "id": "6feef560-b2d3-456e-a161-87ea5bfa0e05",
        "outputId": "e7402c05-f214-4bdc-da0f-3266e9d6d419"
      },
      "outputs": [
        {
          "output_type": "execute_result",
          "data": {
            "text/plain": [
              "array(['ocean_proximity_<1H OCEAN', 'ocean_proximity_INLAND',\n",
              "       'ocean_proximity_ISLAND', 'ocean_proximity_NEAR BAY',\n",
              "       'ocean_proximity_NEAR OCEAN'], dtype=object)"
            ]
          },
          "metadata": {},
          "execution_count": 22
        }
      ],
      "source": [
        "cat_encoder.get_feature_names_out()"
      ]
    },
    {
      "cell_type": "markdown",
      "id": "ad284263-f5a0-4cbe-8651-d289d5ee80fe",
      "metadata": {
        "id": "ad284263-f5a0-4cbe-8651-d289d5ee80fe"
      },
      "source": [
        "## Feature Scaling and Transformation\n",
        "One crucial transformation that should be applied to the data is feature scaling. In general, machine learning algorithms do not perform optimally when the input numerical attributes have significantly different scales. This is evident in the housing data, where the range of total number of rooms is approximately 6 to 39,320, while the range of median incomes only spans from 0 to 15. Without proper scaling, many models will exhibit a bias towards ignoring the median income and placing greater emphasis on the number of rooms.\n",
        "To ensure that all attributes have a consistent scale, there are two commonly used techniques: `min-max scaling` and `standardization`."
      ]
    },
    {
      "cell_type": "markdown",
      "id": "350d10c8-d0c8-4736-b4c7-bb0f96aa966b",
      "metadata": {
        "id": "350d10c8-d0c8-4736-b4c7-bb0f96aa966b"
      },
      "source": [
        "Min-max scaling is a simple technique where the values of each attribute are shifted and rescaled to fall within the range of 0 to 1. This is achieved by subtracting the minimum value and dividing by the difference between the minimum and maximum values of the attribute. In Scikit-Learn, you can utilize the `MinMaxScaler` transformer for this purpose. It provides a `feature_range` hyperparameter that allows you to customize the range if desired. For instance, if zero-mean inputs are preferred, you can set a range of -1 to 1. The `MinMaxScaler` is straightforward to use."
      ]
    },
    {
      "cell_type": "code",
      "execution_count": 23,
      "id": "e9ecf6bd-201d-4cf2-8e6e-cbde7d059000",
      "metadata": {
        "colab": {
          "base_uri": "https://localhost:8080/"
        },
        "id": "e9ecf6bd-201d-4cf2-8e6e-cbde7d059000",
        "outputId": "f5c07a0f-3862-4392-8f79-0ef4edf424c2"
      },
      "outputs": [
        {
          "output_type": "execute_result",
          "data": {
            "text/plain": [
              "array([[ 0.42031873, -0.95536663,  0.29411765, ..., -0.93321441,\n",
              "        -0.81080931, -0.9971296 ],\n",
              "       [ 0.45816733, -0.96811902, -0.64705882, ..., -0.93608971,\n",
              "        -0.82019978, -0.99438722],\n",
              "       [-0.58565737,  0.10520723,  0.05882353, ..., -0.94657827,\n",
              "        -0.72239108, -0.99788879],\n",
              "       ...,\n",
              "       [ 0.        , -0.20510096, -0.41176471, ..., -0.94104015,\n",
              "        -0.77591463, -0.99778078],\n",
              "       [ 0.42629482, -0.67268863, -0.17647059, ..., -0.94178085,\n",
              "        -0.72228978, -0.99600889],\n",
              "       [ 0.0936255 , -0.64293305, -0.17647059, ..., -0.92314855,\n",
              "        -0.86088528, -0.9955595 ]])"
            ]
          },
          "metadata": {},
          "execution_count": 23
        }
      ],
      "source": [
        "from sklearn.preprocessing import MinMaxScaler\n",
        "min_max_scaler = MinMaxScaler(feature_range=(-1, 1))\n",
        "housing_num_min_max_scaled = min_max_scaler.fit_transform(housing_num)\n",
        "housing_num_min_max_scaled"
      ]
    },
    {
      "cell_type": "markdown",
      "id": "32df5384-6806-4098-a963-848a8a7722ef",
      "metadata": {
        "id": "32df5384-6806-4098-a963-848a8a7722ef"
      },
      "source": [
        "Standardization operates differently from min-max scaling. It involves two steps: first, subtracting the mean value from each data point (resulting in standardized values with a zero mean), and then dividing the result by the standard deviation (yielding standardized values with a standard deviation of 1). Unlike min-max scaling, standardization does not confine values to a specific range. However, standardization is less susceptible to the influence of outliers compared to min-max scaling."
      ]
    },
    {
      "cell_type": "code",
      "execution_count": 24,
      "id": "b3d58edf-7a53-4449-8a9f-b91d2e36299a",
      "metadata": {
        "colab": {
          "base_uri": "https://localhost:8080/"
        },
        "id": "b3d58edf-7a53-4449-8a9f-b91d2e36299a",
        "outputId": "2ab1bad1-623c-473e-cca0-5e76104f4f92"
      },
      "outputs": [
        {
          "output_type": "execute_result",
          "data": {
            "text/plain": [
              "array([[ 1.17326778, -1.35034078,  0.42934493, ...,  0.06306804,\n",
              "        -0.4854111 , -0.05346344],\n",
              "       [ 1.2683057 , -1.37845247, -1.4716757 , ..., -0.01586241,\n",
              "        -0.55898986,  0.09295025],\n",
              "       [-1.35274028,  0.98761451, -0.04591023, ..., -0.30378527,\n",
              "         0.20738752, -0.09399635],\n",
              "       ...,\n",
              "       [ 0.11784659,  0.30356346, -0.99642054, ..., -0.15175753,\n",
              "        -0.21199481, -0.0882296 ],\n",
              "       [ 1.18827377, -0.72719839, -0.52116538, ..., -0.17209055,\n",
              "         0.20818128,  0.00637041],\n",
              "       [ 0.35294041, -0.66160445, -0.52116538, ...,  0.33938729,\n",
              "        -0.87777998,  0.03036323]])"
            ]
          },
          "metadata": {},
          "execution_count": 24
        }
      ],
      "source": [
        "from sklearn.preprocessing import StandardScaler\n",
        "std_scaler = StandardScaler()\n",
        "housing_num_std_scaled = std_scaler.fit_transform(housing_num)\n",
        "housing_num_std_scaled"
      ]
    },
    {
      "cell_type": "markdown",
      "id": "b67b0fa7-4016-450f-b467-b27830162135",
      "metadata": {
        "id": "b67b0fa7-4016-450f-b467-b27830162135"
      },
      "source": [
        "When a feature's distribution has a heavy tail, it means that there is a higher occurrence of values that are far from the mean. In such cases, both min-max scaling and standardization can result in most values being compressed or squashed into a small range. This compression of values can cause issues for machine learning models during training and prediction.\n",
        "\n",
        "Machine learning models often work best when the data is standardized or scaled in a way that preserves the underlying distribution and does not excessively compress the values. However, in the presence of a heavy tail, it is advisable to address the heavy tail issue before applying scaling techniques.\n",
        "\n",
        "In cases where the feature exhibits a long and heavy tail, an effective strategy is to replace the feature with its logarithm. This transformation can help bring the values closer together and reduce the influence of extreme values in the tail."
      ]
    },
    {
      "cell_type": "code",
      "execution_count": 25,
      "id": "7b91f4b5-91c1-4933-8588-20fa9913162b",
      "metadata": {
        "colab": {
          "base_uri": "https://localhost:8080/",
          "height": 311
        },
        "id": "7b91f4b5-91c1-4933-8588-20fa9913162b",
        "outputId": "9b9e2869-79bf-4718-f2aa-63b19f4ed00d"
      },
      "outputs": [
        {
          "output_type": "display_data",
          "data": {
            "text/plain": [
              "<Figure size 800x300 with 2 Axes>"
            ],
            "image/png": "[encoded data removed]"
          },
          "metadata": {}
        }
      ],
      "source": [
        "fig, axs = plt.subplots(1, 2, figsize=(8, 3), sharey=True)\n",
        "housing[\"population\"].hist(ax=axs[0], bins=50)\n",
        "housing[\"population\"].apply(np.log).hist(ax=axs[1], bins=50)\n",
        "axs[0].set_xlabel(\"Population\")\n",
        "axs[1].set_xlabel(\"Log of population\")\n",
        "axs[0].set_ylabel(\"Number of districts\")\n",
        "plt.show()"
      ]
    },
    {
      "cell_type": "markdown",
      "id": "697d3403-6f13-4516-8a68-58703b106c5a",
      "metadata": {
        "id": "697d3403-6f13-4516-8a68-58703b106c5a"
      },
      "source": [
        "Up until now, we have primarily focused on transforming the input features. However, it's important to note that the target values might also require transformation. In certain cases, when the target distribution exhibits a heavy tail, it can be beneficial to replace the target values with their logarithm. This transformation helps mitigate the impact of extreme values in the target distribution."
      ]
    },
    {
      "cell_type": "markdown",
      "id": "a926e773-5040-4798-a92d-71f78172971e",
      "metadata": {
        "id": "a926e773-5040-4798-a92d-71f78172971e"
      },
      "source": [
        "## Transformation Piplines\n",
        "As illustrated, there are multiple data transformation steps that must be executed in the correct order. Fortunately, Scikit-Learn offers the Pipeline class to assist with organizing these sequences of transformations. Here is an example of a simple pipeline designed for numerical attributes. It performs imputation and scaling operations on the input features in that specific order."
      ]
    },
    {
      "cell_type": "code",
      "execution_count": 32,
      "id": "e013c9c4-d1bb-46b3-b650-b8585c624ac2",
      "metadata": {
        "colab": {
          "base_uri": "https://localhost:8080/",
          "height": 152
        },
        "id": "e013c9c4-d1bb-46b3-b650-b8585c624ac2",
        "outputId": "1494ab63-37a2-496d-a42d-15dcbd2e0642"
      },
      "outputs": [
        {
          "output_type": "execute_result",
          "data": {
            "text/plain": [
              "ColumnTransformer(transformers=[('num',\n",
              "                                 Pipeline(steps=[('simpleimputer',\n",
              "                                                  SimpleImputer(strategy='median')),\n",
              "                                                 ('standardscaler',\n",
              "                                                  StandardScaler())]),\n",
              "                                 ['longitude', 'latitude', 'housing_median_age',\n",
              "                                  'total_rooms', 'total_bedrooms', 'population',\n",
              "                                  'households', 'median_income']),\n",
              "                                ('cat',\n",
              "                                 Pipeline(steps=[('simpleimputer',\n",
              "                                                  SimpleImputer(strategy='most_frequent')),\n",
              "                                                 ('onehotencoder',\n",
              "                                                  OneHotEncoder(handle_unknown='ignore'))]),\n",
              "                                 ['ocean_proximity'])])"
            ],
            "text/html": [
              "<style>#sk-container-id-2 {color: black;background-color: white;}#sk-container-id-2 pre{padding: 0;}#sk-container-id-2 div.sk-toggleable {background-color: white;}#sk-container-id-2 label.sk-toggleable__label {cursor: pointer;display: block;width: 100%;margin-bottom: 0;padding: 0.3em;box-sizing: border-box;text-align: center;}#sk-container-id-2 label.sk-toggleable__label-arrow:before {content: \"▸\";float: left;margin-right: 0.25em;color: #696969;}#sk-container-id-2 label.sk-toggleable__label-arrow:hover:before {color: black;}#sk-container-id-2 div.sk-estimator:hover label.sk-toggleable__label-arrow:before {color: black;}#sk-container-id-2 div.sk-toggleable__content {max-height: 0;max-width: 0;overflow: hidden;text-align: left;background-color: #f0f8ff;}#sk-container-id-2 div.sk-toggleable__content pre {margin: 0.2em;color: black;border-radius: 0.25em;background-color: #f0f8ff;}#sk-container-id-2 input.sk-toggleable__control:checked~div.sk-toggleable__content {max-height: 200px;max-width: 100%;overflow: auto;}#sk-container-id-2 input.sk-toggleable__control:checked~label.sk-toggleable__label-arrow:before {content: \"▾\";}#sk-container-id-2 div.sk-estimator input.sk-toggleable__control:checked~label.sk-toggleable__label {background-color: #d4ebff;}#sk-container-id-2 div.sk-label input.sk-toggleable__control:checked~label.sk-toggleable__label {background-color: #d4ebff;}#sk-container-id-2 input.sk-hidden--visually {border: 0;clip: rect(1px 1px 1px 1px);clip: rect(1px, 1px, 1px, 1px);height: 1px;margin: -1px;overflow: hidden;padding: 0;position: absolute;width: 1px;}#sk-container-id-2 div.sk-estimator {font-family: monospace;background-color: #f0f8ff;border: 1px dotted black;border-radius: 0.25em;box-sizing: border-box;margin-bottom: 0.5em;}#sk-container-id-2 div.sk-estimator:hover {background-color: #d4ebff;}#sk-container-id-2 div.sk-parallel-item::after {content: \"\";width: 100%;border-bottom: 1px solid gray;flex-grow: 1;}#sk-container-id-2 div.sk-label:hover label.sk-toggleable__label {background-color: #d4ebff;}#sk-container-id-2 div.sk-serial::before {content: \"\";position: absolute;border-left: 1px solid gray;box-sizing: border-box;top: 0;bottom: 0;left: 50%;z-index: 0;}#sk-container-id-2 div.sk-serial {display: flex;flex-direction: column;align-items: center;background-color: white;padding-right: 0.2em;padding-left: 0.2em;position: relative;}#sk-container-id-2 div.sk-item {position: relative;z-index: 1;}#sk-container-id-2 div.sk-parallel {display: flex;align-items: stretch;justify-content: center;background-color: white;position: relative;}#sk-container-id-2 div.sk-item::before, #sk-container-id-2 div.sk-parallel-item::before {content: \"\";position: absolute;border-left: 1px solid gray;box-sizing: border-box;top: 0;bottom: 0;left: 50%;z-index: -1;}#sk-container-id-2 div.sk-parallel-item {display: flex;flex-direction: column;z-index: 1;position: relative;background-color: white;}#sk-container-id-2 div.sk-parallel-item:first-child::after {align-self: flex-end;width: 50%;}#sk-container-id-2 div.sk-parallel-item:last-child::after {align-self: flex-start;width: 50%;}#sk-container-id-2 div.sk-parallel-item:only-child::after {width: 0;}#sk-container-id-2 div.sk-dashed-wrapped {border: 1px dashed gray;margin: 0 0.4em 0.5em 0.4em;box-sizing: border-box;padding-bottom: 0.4em;background-color: white;}#sk-container-id-2 div.sk-label label {font-family: monospace;font-weight: bold;display: inline-block;line-height: 1.2em;}#sk-container-id-2 div.sk-label-container {text-align: center;}#sk-container-id-2 div.sk-container {/* jupyter's `normalize.less` sets `[hidden] { display: none; }` but bootstrap.min.css set `[hidden] { display: none !important; }` so we also need the `!important` here to be able to override the default hidden behavior on the sphinx rendered scikit-learn.org. See: https://github.com/scikit-learn/scikit-learn/issues/21755 */display: inline-block !important;position: relative;}#sk-container-id-2 div.sk-text-repr-fallback {display: none;}</style><div id=\"sk-container-id-2\" class=\"sk-top-container\"><div class=\"sk-text-repr-fallback\"><pre>ColumnTransformer(transformers=[(&#x27;num&#x27;,\n",
              "                                 Pipeline(steps=[(&#x27;simpleimputer&#x27;,\n",
              "                                                  SimpleImputer(strategy=&#x27;median&#x27;)),\n",
              "                                                 (&#x27;standardscaler&#x27;,\n",
              "                                                  StandardScaler())]),\n",
              "                                 [&#x27;longitude&#x27;, &#x27;latitude&#x27;, &#x27;housing_median_age&#x27;,\n",
              "                                  &#x27;total_rooms&#x27;, &#x27;total_bedrooms&#x27;, &#x27;population&#x27;,\n",
              "                                  &#x27;households&#x27;, &#x27;median_income&#x27;]),\n",
              "                                (&#x27;cat&#x27;,\n",
              "                                 Pipeline(steps=[(&#x27;simpleimputer&#x27;,\n",
              "                                                  SimpleImputer(strategy=&#x27;most_frequent&#x27;)),\n",
              "                                                 (&#x27;onehotencoder&#x27;,\n",
              "                                                  OneHotEncoder(handle_unknown=&#x27;ignore&#x27;))]),\n",
              "                                 [&#x27;ocean_proximity&#x27;])])</pre><b>In a Jupyter environment, please rerun this cell to show the HTML representation or trust the notebook. <br />On GitHub, the HTML representation is unable to render, please try loading this page with nbviewer.org.</b></div><div class=\"sk-container\" hidden><div class=\"sk-item sk-dashed-wrapped\"><div class=\"sk-label-container\"><div class=\"sk-label sk-toggleable\"><input class=\"sk-toggleable__control sk-hidden--visually\" id=\"sk-estimator-id-2\" type=\"checkbox\" ><label for=\"sk-estimator-id-2\" class=\"sk-toggleable__label sk-toggleable__label-arrow\">ColumnTransformer</label><div class=\"sk-toggleable__content\"><pre>ColumnTransformer(transformers=[(&#x27;num&#x27;,\n",
              "                                 Pipeline(steps=[(&#x27;simpleimputer&#x27;,\n",
              "                                                  SimpleImputer(strategy=&#x27;median&#x27;)),\n",
              "                                                 (&#x27;standardscaler&#x27;,\n",
              "                                                  StandardScaler())]),\n",
              "                                 [&#x27;longitude&#x27;, &#x27;latitude&#x27;, &#x27;housing_median_age&#x27;,\n",
              "                                  &#x27;total_rooms&#x27;, &#x27;total_bedrooms&#x27;, &#x27;population&#x27;,\n",
              "                                  &#x27;households&#x27;, &#x27;median_income&#x27;]),\n",
              "                                (&#x27;cat&#x27;,\n",
              "                                 Pipeline(steps=[(&#x27;simpleimputer&#x27;,\n",
              "                                                  SimpleImputer(strategy=&#x27;most_frequent&#x27;)),\n",
              "                                                 (&#x27;onehotencoder&#x27;,\n",
              "                                                  OneHotEncoder(handle_unknown=&#x27;ignore&#x27;))]),\n",
              "                                 [&#x27;ocean_proximity&#x27;])])</pre></div></div></div><div class=\"sk-parallel\"><div class=\"sk-parallel-item\"><div class=\"sk-item\"><div class=\"sk-label-container\"><div class=\"sk-label sk-toggleable\"><input class=\"sk-toggleable__control sk-hidden--visually\" id=\"sk-estimator-id-3\" type=\"checkbox\" ><label for=\"sk-estimator-id-3\" class=\"sk-toggleable__label sk-toggleable__label-arrow\">num</label><div class=\"sk-toggleable__content\"><pre>[&#x27;longitude&#x27;, &#x27;latitude&#x27;, &#x27;housing_median_age&#x27;, &#x27;total_rooms&#x27;, &#x27;total_bedrooms&#x27;, &#x27;population&#x27;, &#x27;households&#x27;, &#x27;median_income&#x27;]</pre></div></div></div><div class=\"sk-serial\"><div class=\"sk-item\"><div class=\"sk-serial\"><div class=\"sk-item\"><div class=\"sk-estimator sk-toggleable\"><input class=\"sk-toggleable__control sk-hidden--visually\" id=\"sk-estimator-id-4\" type=\"checkbox\" ><label for=\"sk-estimator-id-4\" class=\"sk-toggleable__label sk-toggleable__label-arrow\">SimpleImputer</label><div class=\"sk-toggleable__content\"><pre>SimpleImputer(strategy=&#x27;median&#x27;)</pre></div></div></div><div class=\"sk-item\"><div class=\"sk-estimator sk-toggleable\"><input class=\"sk-toggleable__control sk-hidden--visually\" id=\"sk-estimator-id-5\" type=\"checkbox\" ><label for=\"sk-estimator-id-5\" class=\"sk-toggleable__label sk-toggleable__label-arrow\">StandardScaler</label><div class=\"sk-toggleable__content\"><pre>StandardScaler()</pre></div></div></div></div></div></div></div></div><div class=\"sk-parallel-item\"><div class=\"sk-item\"><div class=\"sk-label-container\"><div class=\"sk-label sk-toggleable\"><input class=\"sk-toggleable__control sk-hidden--visually\" id=\"sk-estimator-id-6\" type=\"checkbox\" ><label for=\"sk-estimator-id-6\" class=\"sk-toggleable__label sk-toggleable__label-arrow\">cat</label><div class=\"sk-toggleable__content\"><pre>[&#x27;ocean_proximity&#x27;]</pre></div></div></div><div class=\"sk-serial\"><div class=\"sk-item\"><div class=\"sk-serial\"><div class=\"sk-item\"><div class=\"sk-estimator sk-toggleable\"><input class=\"sk-toggleable__control sk-hidden--visually\" id=\"sk-estimator-id-7\" type=\"checkbox\" ><label for=\"sk-estimator-id-7\" class=\"sk-toggleable__label sk-toggleable__label-arrow\">SimpleImputer</label><div class=\"sk-toggleable__content\"><pre>SimpleImputer(strategy=&#x27;most_frequent&#x27;)</pre></div></div></div><div class=\"sk-item\"><div class=\"sk-estimator sk-toggleable\"><input class=\"sk-toggleable__control sk-hidden--visually\" id=\"sk-estimator-id-8\" type=\"checkbox\" ><label for=\"sk-estimator-id-8\" class=\"sk-toggleable__label sk-toggleable__label-arrow\">OneHotEncoder</label><div class=\"sk-toggleable__content\"><pre>OneHotEncoder(handle_unknown=&#x27;ignore&#x27;)</pre></div></div></div></div></div></div></div></div></div></div></div></div>"
            ]
          },
          "metadata": {},
          "execution_count": 32
        }
      ],
      "source": [
        "from sklearn.compose import ColumnTransformer\n",
        "from sklearn.pipeline import make_pipeline\n",
        "\n",
        "num_attribs = [\"longitude\", \"latitude\", \"housing_median_age\", \"total_rooms\", \"total_bedrooms\", \"population\", \"households\", \"median_income\"]\n",
        "cat_attribs = [\"ocean_proximity\"]\n",
        "\n",
        "num_pipeline = make_pipeline(\n",
        "    SimpleImputer(strategy=\"median\"), #data cleaning\n",
        "    # you may add log transformation if needed\n",
        "    StandardScaler() #feature scaling\n",
        ")\n",
        "\n",
        "cat_pipeline = make_pipeline(\n",
        "    SimpleImputer(strategy=\"most_frequent\"), #data cleaning (mode)\n",
        "    OneHotEncoder(handle_unknown=\"ignore\") #feature encoding\n",
        ")\n",
        "\n",
        "preprocessing = ColumnTransformer([\n",
        "    (\"num\", num_pipeline, num_attribs),\n",
        "    (\"cat\", cat_pipeline, cat_attribs),\n",
        "])\n",
        "\n",
        "preprocessing"
      ]
    },
    {
      "cell_type": "code",
      "execution_count": 27,
      "id": "ea52cd5e-cb30-42ff-9544-3001f3e9da4a",
      "metadata": {
        "colab": {
          "base_uri": "https://localhost:8080/"
        },
        "id": "ea52cd5e-cb30-42ff-9544-3001f3e9da4a",
        "outputId": "01f95115-5321-4b92-cac1-27c0916a30ff"
      },
      "outputs": [
        {
          "output_type": "execute_result",
          "data": {
            "text/plain": [
              "array([[ 1.17326778, -1.35034078,  0.42934493, ...,  0.        ,\n",
              "         0.        ,  1.        ],\n",
              "       [ 1.2683057 , -1.37845247, -1.4716757 , ...,  0.        ,\n",
              "         0.        ,  1.        ],\n",
              "       [-1.35274028,  0.98761451, -0.04591023, ...,  0.        ,\n",
              "         1.        ,  0.        ],\n",
              "       ...,\n",
              "       [ 0.11784659,  0.30356346, -0.99642054, ...,  0.        ,\n",
              "         0.        ,  0.        ],\n",
              "       [ 1.18827377, -0.72719839, -0.52116538, ...,  0.        ,\n",
              "         0.        ,  0.        ],\n",
              "       [ 0.35294041, -0.66160445, -0.52116538, ...,  0.        ,\n",
              "         0.        ,  0.        ]])"
            ]
          },
          "metadata": {},
          "execution_count": 27
        }
      ],
      "source": [
        "housing_prepared = preprocessing.fit_transform(housing)\n",
        "housing_prepared"
      ]
    },
    {
      "cell_type": "code",
      "execution_count": 28,
      "id": "9c402272-e50d-4c3a-931a-56cb24ebd199",
      "metadata": {
        "colab": {
          "base_uri": "https://localhost:8080/"
        },
        "id": "9c402272-e50d-4c3a-931a-56cb24ebd199",
        "outputId": "b5ca6e3b-3d62-4024-ce4e-b1ddb1351c3d"
      },
      "outputs": [
        {
          "output_type": "execute_result",
          "data": {
            "text/plain": [
              "array(['num__longitude', 'num__latitude', 'num__housing_median_age',\n",
              "       'num__total_rooms', 'num__total_bedrooms', 'num__population',\n",
              "       'num__households', 'num__median_income',\n",
              "       'cat__ocean_proximity_<1H OCEAN', 'cat__ocean_proximity_INLAND',\n",
              "       'cat__ocean_proximity_ISLAND', 'cat__ocean_proximity_NEAR BAY',\n",
              "       'cat__ocean_proximity_NEAR OCEAN'], dtype=object)"
            ]
          },
          "metadata": {},
          "execution_count": 28
        }
      ],
      "source": [
        "preprocessing.get_feature_names_out()"
      ]
    },
    {
      "cell_type": "markdown",
      "id": "500fe77a-d225-4624-a508-8ded4ea525f4",
      "metadata": {
        "id": "500fe77a-d225-4624-a508-8ded4ea525f4"
      },
      "source": [
        "## End of Preprocessing\n",
        "Finally! You have defined the problem, obtained the data, conducted exploratory analysis, divided it into training and test sets, and developed a preprocessing pipeline to clean and prepare the data for machine learning algorithms. Now, it's time to choose and train a machine learning model."
      ]
    }
  ],
  "metadata": {
    "kernelspec": {
      "display_name": "Python 3 (ipykernel)",
      "language": "python",
      "name": "python3"
    },
    "language_info": {
      "codemirror_mode": {
        "name": "ipython",
        "version": 3
      },
      "file_extension": ".py",
      "mimetype": "text/x-python",
      "name": "python",
      "nbconvert_exporter": "python",
      "pygments_lexer": "ipython3",
      "version": "3.8.13"
    },
    "colab": {
      "provenance": [],
      "toc_visible": true
    }
  },
  "nbformat": 4,
  "nbformat_minor": 5
}