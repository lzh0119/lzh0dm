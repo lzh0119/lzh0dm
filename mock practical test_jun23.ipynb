{
 "cells": [
  {
   "cell_type": "code",
   "execution_count": 88,
   "id": "c4c747f8-fc63-462f-8699-e9ea76e4b0b9",
   "metadata": {},
   "outputs": [],
   "source": [
    "import pandas as pd\n",
    "from sklearn.model_selection import train_test_split\n",
    "from sklearn.preprocessing import OrdinalEncoder\n",
    "from sklearn.tree import DecisionTreeClassifier\n",
    "from sklearn.linear_model import LogisticRegression\n",
    "from sklearn.model_selection import cross_val_score, cross_val_predict\n",
    "from sklearn.model_selection import GridSearchCV\n",
    "from sklearn.svm import SVC, LinearSVC\n",
    "from sklearn.preprocessing import StandardScaler\n",
    "import numpy as np\n",
    "import seaborn as sns\n",
    "import matplotlib.pyplot as plt\n",
    "from sklearn.naive_bayes import GaussianNB\n",
    "from sklearn.neighbors import KNeighborsClassifier\n",
    "from sklearn.preprocessing import OneHotEncoder\n",
    "from sklearn.metrics import classification_report, confusion_matrix\n",
    "%matplotlib inline\n",
    "\n",
    "np.random.seed(42)\n",
    "\n",
    "pd.set_option('display.max_rows', 500)\n",
    "pd.set_option('display.max_columns', 500)\n",
    "pd.set_option('display.width', 1000)"
   ]
  },
  {
   "cell_type": "markdown",
   "id": "207c9b54-a488-4854-84b9-3bc9630280a2",
   "metadata": {},
   "source": [
    "## <u>1.    Load the data</u>"
   ]
  },
  {
   "cell_type": "code",
   "execution_count": 89,
   "id": "c94a0a41-7459-4c1c-aef4-265b3080ea0f",
   "metadata": {},
   "outputs": [
    {
     "data": {
      "text/html": [
       "<div>\n",
       "<style scoped>\n",
       "    .dataframe tbody tr th:only-of-type {\n",
       "        vertical-align: middle;\n",
       "    }\n",
       "\n",
       "    .dataframe tbody tr th {\n",
       "        vertical-align: top;\n",
       "    }\n",
       "\n",
       "    .dataframe thead th {\n",
       "        text-align: right;\n",
       "    }\n",
       "</style>\n",
       "<table border=\"1\" class=\"dataframe\">\n",
       "  <thead>\n",
       "    <tr style=\"text-align: right;\">\n",
       "      <th></th>\n",
       "      <th>age</th>\n",
       "      <th>sex</th>\n",
       "      <th>cp</th>\n",
       "      <th>trtbps</th>\n",
       "      <th>chol</th>\n",
       "      <th>fbs</th>\n",
       "      <th>restecg</th>\n",
       "      <th>thalachh</th>\n",
       "      <th>exng</th>\n",
       "      <th>oldpeak</th>\n",
       "      <th>slp</th>\n",
       "      <th>ca</th>\n",
       "      <th>output</th>\n",
       "    </tr>\n",
       "  </thead>\n",
       "  <tbody>\n",
       "    <tr>\n",
       "      <th>0</th>\n",
       "      <td>63</td>\n",
       "      <td>male</td>\n",
       "      <td>asymptomatic</td>\n",
       "      <td>145</td>\n",
       "      <td>233</td>\n",
       "      <td>True</td>\n",
       "      <td>0</td>\n",
       "      <td>150</td>\n",
       "      <td>no</td>\n",
       "      <td>2.3</td>\n",
       "      <td>downsloping</td>\n",
       "      <td>0</td>\n",
       "      <td>high</td>\n",
       "    </tr>\n",
       "    <tr>\n",
       "      <th>1</th>\n",
       "      <td>37</td>\n",
       "      <td>male</td>\n",
       "      <td>non-anginal pain</td>\n",
       "      <td>130</td>\n",
       "      <td>250</td>\n",
       "      <td>False</td>\n",
       "      <td>1</td>\n",
       "      <td>187</td>\n",
       "      <td>no</td>\n",
       "      <td>3.5</td>\n",
       "      <td>downsloping</td>\n",
       "      <td>0</td>\n",
       "      <td>high</td>\n",
       "    </tr>\n",
       "    <tr>\n",
       "      <th>2</th>\n",
       "      <td>41</td>\n",
       "      <td>female</td>\n",
       "      <td>atypical angina</td>\n",
       "      <td>130</td>\n",
       "      <td>204</td>\n",
       "      <td>False</td>\n",
       "      <td>0</td>\n",
       "      <td>172</td>\n",
       "      <td>no</td>\n",
       "      <td>1.4</td>\n",
       "      <td>upsloping</td>\n",
       "      <td>0</td>\n",
       "      <td>high</td>\n",
       "    </tr>\n",
       "    <tr>\n",
       "      <th>3</th>\n",
       "      <td>56</td>\n",
       "      <td>male</td>\n",
       "      <td>atypical angina</td>\n",
       "      <td>120</td>\n",
       "      <td>236</td>\n",
       "      <td>False</td>\n",
       "      <td>1</td>\n",
       "      <td>178</td>\n",
       "      <td>no</td>\n",
       "      <td>0.8</td>\n",
       "      <td>upsloping</td>\n",
       "      <td>0</td>\n",
       "      <td>high</td>\n",
       "    </tr>\n",
       "    <tr>\n",
       "      <th>4</th>\n",
       "      <td>57</td>\n",
       "      <td>female</td>\n",
       "      <td>typical angina</td>\n",
       "      <td>120</td>\n",
       "      <td>354</td>\n",
       "      <td>False</td>\n",
       "      <td>1</td>\n",
       "      <td>163</td>\n",
       "      <td>yes</td>\n",
       "      <td>0.6</td>\n",
       "      <td>upsloping</td>\n",
       "      <td>0</td>\n",
       "      <td>high</td>\n",
       "    </tr>\n",
       "  </tbody>\n",
       "</table>\n",
       "</div>"
      ],
      "text/plain": [
       "   age     sex                cp  trtbps  chol    fbs  restecg  thalachh exng  oldpeak          slp  ca output\n",
       "0   63    male      asymptomatic     145   233   True        0       150   no      2.3  downsloping   0   high\n",
       "1   37    male  non-anginal pain     130   250  False        1       187   no      3.5  downsloping   0   high\n",
       "2   41  female   atypical angina     130   204  False        0       172   no      1.4    upsloping   0   high\n",
       "3   56    male   atypical angina     120   236  False        1       178   no      0.8    upsloping   0   high\n",
       "4   57  female    typical angina     120   354  False        1       163  yes      0.6    upsloping   0   high"
      ]
     },
     "execution_count": 89,
     "metadata": {},
     "output_type": "execute_result"
    }
   ],
   "source": [
    "data = pd.read_csv(\"heart.csv\")\n",
    "data.head()"
   ]
  },
  {
   "cell_type": "markdown",
   "id": "f5b0cffe-53d1-46bf-80af-953d69022e60",
   "metadata": {},
   "source": [
    "\n",
    "## <u>2.    Take a quick look at the data such as using head, describe, info</u>"
   ]
  },
  {
   "cell_type": "code",
   "execution_count": 90,
   "id": "9b900477-9865-488b-8860-7f5b147f42d7",
   "metadata": {},
   "outputs": [
    {
     "data": {
      "text/html": [
       "<div>\n",
       "<style scoped>\n",
       "    .dataframe tbody tr th:only-of-type {\n",
       "        vertical-align: middle;\n",
       "    }\n",
       "\n",
       "    .dataframe tbody tr th {\n",
       "        vertical-align: top;\n",
       "    }\n",
       "\n",
       "    .dataframe thead th {\n",
       "        text-align: right;\n",
       "    }\n",
       "</style>\n",
       "<table border=\"1\" class=\"dataframe\">\n",
       "  <thead>\n",
       "    <tr style=\"text-align: right;\">\n",
       "      <th></th>\n",
       "      <th>age</th>\n",
       "      <th>trtbps</th>\n",
       "      <th>chol</th>\n",
       "      <th>restecg</th>\n",
       "      <th>thalachh</th>\n",
       "      <th>oldpeak</th>\n",
       "      <th>ca</th>\n",
       "    </tr>\n",
       "  </thead>\n",
       "  <tbody>\n",
       "    <tr>\n",
       "      <th>count</th>\n",
       "      <td>303.000000</td>\n",
       "      <td>303.000000</td>\n",
       "      <td>303.000000</td>\n",
       "      <td>303.000000</td>\n",
       "      <td>303.000000</td>\n",
       "      <td>303.000000</td>\n",
       "      <td>303.000000</td>\n",
       "    </tr>\n",
       "    <tr>\n",
       "      <th>mean</th>\n",
       "      <td>54.366337</td>\n",
       "      <td>131.623762</td>\n",
       "      <td>246.264026</td>\n",
       "      <td>0.528053</td>\n",
       "      <td>149.646865</td>\n",
       "      <td>1.039604</td>\n",
       "      <td>0.729373</td>\n",
       "    </tr>\n",
       "    <tr>\n",
       "      <th>std</th>\n",
       "      <td>9.082101</td>\n",
       "      <td>17.538143</td>\n",
       "      <td>51.830751</td>\n",
       "      <td>0.525860</td>\n",
       "      <td>22.905161</td>\n",
       "      <td>1.161075</td>\n",
       "      <td>1.022606</td>\n",
       "    </tr>\n",
       "    <tr>\n",
       "      <th>min</th>\n",
       "      <td>29.000000</td>\n",
       "      <td>94.000000</td>\n",
       "      <td>126.000000</td>\n",
       "      <td>0.000000</td>\n",
       "      <td>71.000000</td>\n",
       "      <td>0.000000</td>\n",
       "      <td>0.000000</td>\n",
       "    </tr>\n",
       "    <tr>\n",
       "      <th>25%</th>\n",
       "      <td>47.500000</td>\n",
       "      <td>120.000000</td>\n",
       "      <td>211.000000</td>\n",
       "      <td>0.000000</td>\n",
       "      <td>133.500000</td>\n",
       "      <td>0.000000</td>\n",
       "      <td>0.000000</td>\n",
       "    </tr>\n",
       "    <tr>\n",
       "      <th>50%</th>\n",
       "      <td>55.000000</td>\n",
       "      <td>130.000000</td>\n",
       "      <td>240.000000</td>\n",
       "      <td>1.000000</td>\n",
       "      <td>153.000000</td>\n",
       "      <td>0.800000</td>\n",
       "      <td>0.000000</td>\n",
       "    </tr>\n",
       "    <tr>\n",
       "      <th>75%</th>\n",
       "      <td>61.000000</td>\n",
       "      <td>140.000000</td>\n",
       "      <td>274.500000</td>\n",
       "      <td>1.000000</td>\n",
       "      <td>166.000000</td>\n",
       "      <td>1.600000</td>\n",
       "      <td>1.000000</td>\n",
       "    </tr>\n",
       "    <tr>\n",
       "      <th>max</th>\n",
       "      <td>77.000000</td>\n",
       "      <td>200.000000</td>\n",
       "      <td>564.000000</td>\n",
       "      <td>2.000000</td>\n",
       "      <td>202.000000</td>\n",
       "      <td>6.200000</td>\n",
       "      <td>4.000000</td>\n",
       "    </tr>\n",
       "  </tbody>\n",
       "</table>\n",
       "</div>"
      ],
      "text/plain": [
       "              age      trtbps        chol     restecg    thalachh     oldpeak          ca\n",
       "count  303.000000  303.000000  303.000000  303.000000  303.000000  303.000000  303.000000\n",
       "mean    54.366337  131.623762  246.264026    0.528053  149.646865    1.039604    0.729373\n",
       "std      9.082101   17.538143   51.830751    0.525860   22.905161    1.161075    1.022606\n",
       "min     29.000000   94.000000  126.000000    0.000000   71.000000    0.000000    0.000000\n",
       "25%     47.500000  120.000000  211.000000    0.000000  133.500000    0.000000    0.000000\n",
       "50%     55.000000  130.000000  240.000000    1.000000  153.000000    0.800000    0.000000\n",
       "75%     61.000000  140.000000  274.500000    1.000000  166.000000    1.600000    1.000000\n",
       "max     77.000000  200.000000  564.000000    2.000000  202.000000    6.200000    4.000000"
      ]
     },
     "execution_count": 90,
     "metadata": {},
     "output_type": "execute_result"
    }
   ],
   "source": [
    "data.describe()"
   ]
  },
  {
   "cell_type": "code",
   "execution_count": 91,
   "id": "4f1e9f19-bac5-4e44-8658-24a70095c582",
   "metadata": {},
   "outputs": [
    {
     "name": "stdout",
     "output_type": "stream",
     "text": [
      "<class 'pandas.core.frame.DataFrame'>\n",
      "RangeIndex: 303 entries, 0 to 302\n",
      "Data columns (total 13 columns):\n",
      " #   Column    Non-Null Count  Dtype  \n",
      "---  ------    --------------  -----  \n",
      " 0   age       303 non-null    int64  \n",
      " 1   sex       303 non-null    object \n",
      " 2   cp        303 non-null    object \n",
      " 3   trtbps    303 non-null    int64  \n",
      " 4   chol      303 non-null    int64  \n",
      " 5   fbs       303 non-null    bool   \n",
      " 6   restecg   303 non-null    int64  \n",
      " 7   thalachh  303 non-null    int64  \n",
      " 8   exng      303 non-null    object \n",
      " 9   oldpeak   303 non-null    float64\n",
      " 10  slp       303 non-null    object \n",
      " 11  ca        303 non-null    int64  \n",
      " 12  output    303 non-null    object \n",
      "dtypes: bool(1), float64(1), int64(6), object(5)\n",
      "memory usage: 28.8+ KB\n"
     ]
    }
   ],
   "source": [
    "data.info()"
   ]
  },
  {
   "cell_type": "code",
   "execution_count": 92,
   "id": "26e39134-b888-4c10-b997-f4598255dc9a",
   "metadata": {},
   "outputs": [
    {
     "name": "stdout",
     "output_type": "stream",
     "text": [
      "Number of people having sex as Male are 207 and Number of people having sex as Female are 96\n"
     ]
    },
    {
     "data": {
      "image/png": "[encoded data removed]",
      "text/plain": [
       "<Figure size 640x480 with 1 Axes>"
      ]
     },
     "metadata": {},
     "output_type": "display_data"
    }
   ],
   "source": [
    "x=(data['sex'].value_counts())\n",
    "print(f'Number of people having sex as Male are {x[0]} and Number of people having sex as Female are {x[1]}')\n",
    "p = sns.countplot(data=data, x=\"sex\")\n",
    "#plt.show()"
   ]
  },
  {
   "cell_type": "markdown",
   "id": "63fb07dd-738c-4a5b-85fe-df0b33dafb70",
   "metadata": {},
   "source": []
  },
  {
   "cell_type": "code",
   "execution_count": 93,
   "id": "aa331802-24b8-41c8-b881-c7c6081c9338",
   "metadata": {},
   "outputs": [
    {
     "name": "stdout",
     "output_type": "stream",
     "text": [
      "typical angina      143\n",
      "non-anginal pain     87\n",
      "atypical angina      50\n",
      "asymptomatic         23\n",
      "Name: cp, dtype: int64\n"
     ]
    },
    {
     "data": {
      "image/png": "[encoded data removed]",
      "text/plain": [
       "<Figure size 640x480 with 1 Axes>"
      ]
     },
     "metadata": {},
     "output_type": "display_data"
    }
   ],
   "source": [
    "vals=(data['cp'].value_counts())\n",
    "print(vals)\n",
    "p = sns.countplot(data=data, x=\"cp\")\n",
    "plt.show()"
   ]
  },
  {
   "cell_type": "markdown",
   "id": "d1687567-305f-4711-bea4-e3cb0d445061",
   "metadata": {},
   "source": [
    "- It can be observed people have chest pain of type 'Typical Angina' is the highest.\n",
    "- It can be observed people have chest pain of type 'Asymptomatic' is the lowest\n",
    "- It can also be observed people with chest pain of type 'Typical Angina' is almost 50% of all the people"
   ]
  },
  {
   "cell_type": "code",
   "execution_count": 94,
   "id": "ee9facae-5088-40dc-8944-e1dfefdd0fa5",
   "metadata": {},
   "outputs": [],
   "source": [
    "cat_attribs = ['sex', 'cp', 'exng', 'fbs','restecg','slp']\n",
    "num_attribs = ['age', 'trtbps', 'chol', 'thalachh', 'oldpeak', 'ca']"
   ]
  },
  {
   "cell_type": "markdown",
   "id": "14ac3129-b163-4c09-bfe0-274724b3adb2",
   "metadata": {},
   "source": [
    "## <u>3.    Split your data into training and test set (no data snooping!)</u>"
   ]
  },
  {
   "cell_type": "code",
   "execution_count": 95,
   "id": "9ee33c49-8391-4dfd-b075-83f93d12a1f9",
   "metadata": {},
   "outputs": [
    {
     "data": {
      "text/html": [
       "<div>\n",
       "<style scoped>\n",
       "    .dataframe tbody tr th:only-of-type {\n",
       "        vertical-align: middle;\n",
       "    }\n",
       "\n",
       "    .dataframe tbody tr th {\n",
       "        vertical-align: top;\n",
       "    }\n",
       "\n",
       "    .dataframe thead th {\n",
       "        text-align: right;\n",
       "    }\n",
       "</style>\n",
       "<table border=\"1\" class=\"dataframe\">\n",
       "  <thead>\n",
       "    <tr style=\"text-align: right;\">\n",
       "      <th></th>\n",
       "      <th>age</th>\n",
       "      <th>sex</th>\n",
       "      <th>cp</th>\n",
       "      <th>trtbps</th>\n",
       "      <th>chol</th>\n",
       "      <th>fbs</th>\n",
       "      <th>restecg</th>\n",
       "      <th>thalachh</th>\n",
       "      <th>exng</th>\n",
       "      <th>oldpeak</th>\n",
       "      <th>slp</th>\n",
       "      <th>ca</th>\n",
       "      <th>output</th>\n",
       "    </tr>\n",
       "  </thead>\n",
       "  <tbody>\n",
       "    <tr>\n",
       "      <th>132</th>\n",
       "      <td>42</td>\n",
       "      <td>male</td>\n",
       "      <td>atypical angina</td>\n",
       "      <td>120</td>\n",
       "      <td>295</td>\n",
       "      <td>False</td>\n",
       "      <td>1</td>\n",
       "      <td>162</td>\n",
       "      <td>no</td>\n",
       "      <td>0.0</td>\n",
       "      <td>upsloping</td>\n",
       "      <td>0</td>\n",
       "      <td>high</td>\n",
       "    </tr>\n",
       "    <tr>\n",
       "      <th>202</th>\n",
       "      <td>58</td>\n",
       "      <td>male</td>\n",
       "      <td>typical angina</td>\n",
       "      <td>150</td>\n",
       "      <td>270</td>\n",
       "      <td>False</td>\n",
       "      <td>0</td>\n",
       "      <td>111</td>\n",
       "      <td>yes</td>\n",
       "      <td>0.8</td>\n",
       "      <td>upsloping</td>\n",
       "      <td>0</td>\n",
       "      <td>low</td>\n",
       "    </tr>\n",
       "    <tr>\n",
       "      <th>196</th>\n",
       "      <td>46</td>\n",
       "      <td>male</td>\n",
       "      <td>non-anginal pain</td>\n",
       "      <td>150</td>\n",
       "      <td>231</td>\n",
       "      <td>False</td>\n",
       "      <td>1</td>\n",
       "      <td>147</td>\n",
       "      <td>no</td>\n",
       "      <td>3.6</td>\n",
       "      <td>flat</td>\n",
       "      <td>0</td>\n",
       "      <td>low</td>\n",
       "    </tr>\n",
       "    <tr>\n",
       "      <th>75</th>\n",
       "      <td>55</td>\n",
       "      <td>female</td>\n",
       "      <td>atypical angina</td>\n",
       "      <td>135</td>\n",
       "      <td>250</td>\n",
       "      <td>False</td>\n",
       "      <td>0</td>\n",
       "      <td>161</td>\n",
       "      <td>no</td>\n",
       "      <td>1.4</td>\n",
       "      <td>flat</td>\n",
       "      <td>0</td>\n",
       "      <td>high</td>\n",
       "    </tr>\n",
       "    <tr>\n",
       "      <th>176</th>\n",
       "      <td>60</td>\n",
       "      <td>male</td>\n",
       "      <td>typical angina</td>\n",
       "      <td>117</td>\n",
       "      <td>230</td>\n",
       "      <td>True</td>\n",
       "      <td>1</td>\n",
       "      <td>160</td>\n",
       "      <td>yes</td>\n",
       "      <td>1.4</td>\n",
       "      <td>upsloping</td>\n",
       "      <td>2</td>\n",
       "      <td>low</td>\n",
       "    </tr>\n",
       "  </tbody>\n",
       "</table>\n",
       "</div>"
      ],
      "text/plain": [
       "     age     sex                cp  trtbps  chol    fbs  restecg  thalachh exng  oldpeak        slp  ca output\n",
       "132   42    male   atypical angina     120   295  False        1       162   no      0.0  upsloping   0   high\n",
       "202   58    male    typical angina     150   270  False        0       111  yes      0.8  upsloping   0    low\n",
       "196   46    male  non-anginal pain     150   231  False        1       147   no      3.6       flat   0    low\n",
       "75    55  female   atypical angina     135   250  False        0       161   no      1.4       flat   0   high\n",
       "176   60    male    typical angina     117   230   True        1       160  yes      1.4  upsloping   2    low"
      ]
     },
     "execution_count": 95,
     "metadata": {},
     "output_type": "execute_result"
    }
   ],
   "source": [
    "train, test = train_test_split(data, test_size=0.2, random_state=42)\n",
    "train.head()"
   ]
  },
  {
   "cell_type": "markdown",
   "id": "c0d91284-8d6d-4d07-b206-daec7f284924",
   "metadata": {},
   "source": [
    "## <u>4.    Explore data and visualize the data to gain insights</u>"
   ]
  },
  {
   "cell_type": "code",
   "execution_count": 96,
   "id": "3f1c9a0a-42ad-4261-98a2-5621f209f996",
   "metadata": {},
   "outputs": [
    {
     "data": {
      "text/html": [
       "<div>\n",
       "<style scoped>\n",
       "    .dataframe tbody tr th:only-of-type {\n",
       "        vertical-align: middle;\n",
       "    }\n",
       "\n",
       "    .dataframe tbody tr th {\n",
       "        vertical-align: top;\n",
       "    }\n",
       "\n",
       "    .dataframe thead th {\n",
       "        text-align: right;\n",
       "    }\n",
       "</style>\n",
       "<table border=\"1\" class=\"dataframe\">\n",
       "  <thead>\n",
       "    <tr style=\"text-align: right;\">\n",
       "      <th>output</th>\n",
       "      <th>high</th>\n",
       "      <th>low</th>\n",
       "    </tr>\n",
       "    <tr>\n",
       "      <th>sex</th>\n",
       "      <th></th>\n",
       "      <th></th>\n",
       "    </tr>\n",
       "  </thead>\n",
       "  <tbody>\n",
       "    <tr>\n",
       "      <th>female</th>\n",
       "      <td>63</td>\n",
       "      <td>20</td>\n",
       "    </tr>\n",
       "    <tr>\n",
       "      <th>male</th>\n",
       "      <td>70</td>\n",
       "      <td>89</td>\n",
       "    </tr>\n",
       "  </tbody>\n",
       "</table>\n",
       "</div>"
      ],
      "text/plain": [
       "output  high  low\n",
       "sex              \n",
       "female    63   20\n",
       "male      70   89"
      ]
     },
     "execution_count": 96,
     "metadata": {},
     "output_type": "execute_result"
    }
   ],
   "source": [
    "pd.crosstab([train['sex']], train['output'])"
   ]
  },
  {
   "cell_type": "code",
   "execution_count": 97,
   "id": "d12fb339-71f0-4236-8937-cf280413f4ab",
   "metadata": {},
   "outputs": [
    {
     "data": {
      "image/png": "[encoded data removed]",
      "text/plain": [
       "<Figure size 640x480 with 1 Axes>"
      ]
     },
     "metadata": {},
     "output_type": "display_data"
    }
   ],
   "source": [
    "#plt.hist(data=train, x=\"sex\", bins=2, rwidth=0.9)\n",
    "p = sns.countplot(data=train, x=\"sex\")\n",
    "plt.show()"
   ]
  },
  {
   "cell_type": "code",
   "execution_count": 98,
   "id": "818eeb80-e288-4add-8dd8-c8d9532d3f38",
   "metadata": {},
   "outputs": [
    {
     "data": {
      "text/plain": [
       "<matplotlib.legend.Legend at 0x1e195d57100>"
      ]
     },
     "execution_count": 98,
     "metadata": {},
     "output_type": "execute_result"
    },
    {
     "data": {
      "text/plain": [
       "<Figure size 1000x1000 with 0 Axes>"
      ]
     },
     "metadata": {},
     "output_type": "display_data"
    },
    {
     "data": {
      "image/png": "[encoded data removed]",
      "text/plain": [
       "<Figure size 500x500 with 1 Axes>"
      ]
     },
     "metadata": {},
     "output_type": "display_data"
    }
   ],
   "source": [
    "plt.figure(figsize=(10,10))\n",
    "sns.displot(train['age'].values, color=\"red\", label=\"Age\", kde= True)\n",
    "plt.legend()"
   ]
  },
  {
   "cell_type": "markdown",
   "id": "63eb8e23-03c5-480b-adae-3d97f0f52e82",
   "metadata": {},
   "source": [
    "Density distribution is highest for age group 55 to 60"
   ]
  },
  {
   "cell_type": "code",
   "execution_count": 99,
   "id": "d4ba6e01-432b-48ca-a543-b5832705d218",
   "metadata": {},
   "outputs": [
    {
     "name": "stdout",
     "output_type": "stream",
     "text": [
      "<class 'pandas.core.frame.DataFrame'>\n",
      "Int64Index: 242 entries, 132 to 102\n",
      "Data columns (total 13 columns):\n",
      " #   Column    Non-Null Count  Dtype  \n",
      "---  ------    --------------  -----  \n",
      " 0   age       242 non-null    int64  \n",
      " 1   sex       242 non-null    object \n",
      " 2   cp        242 non-null    object \n",
      " 3   trtbps    242 non-null    int64  \n",
      " 4   chol      242 non-null    int64  \n",
      " 5   fbs       242 non-null    bool   \n",
      " 6   restecg   242 non-null    int64  \n",
      " 7   thalachh  242 non-null    int64  \n",
      " 8   exng      242 non-null    object \n",
      " 9   oldpeak   242 non-null    float64\n",
      " 10  slp       242 non-null    object \n",
      " 11  ca        242 non-null    int64  \n",
      " 12  output    242 non-null    object \n",
      "dtypes: bool(1), float64(1), int64(6), object(5)\n",
      "memory usage: 24.8+ KB\n"
     ]
    }
   ],
   "source": [
    "train.info()\n",
    "# any missing values to report"
   ]
  },
  {
   "cell_type": "code",
   "execution_count": 100,
   "id": "089fa4f0-8e4b-4d98-a708-fffa3622d91f",
   "metadata": {},
   "outputs": [
    {
     "data": {
      "text/plain": [
       "high    133\n",
       "low     109\n",
       "Name: output, dtype: int64"
      ]
     },
     "execution_count": 100,
     "metadata": {},
     "output_type": "execute_result"
    }
   ],
   "source": [
    "train['output'].value_counts()"
   ]
  },
  {
   "cell_type": "code",
   "execution_count": 101,
   "id": "a6851a92-bc6d-4a13-90d6-1ca808d1438e",
   "metadata": {},
   "outputs": [
    {
     "data": {
      "text/plain": [
       "<AxesSubplot:xlabel='output', ylabel='chol'>"
      ]
     },
     "execution_count": 101,
     "metadata": {},
     "output_type": "execute_result"
    },
    {
     "data": {
      "image/png": "[encoded data removed]",
      "text/plain": [
       "<Figure size 640x480 with 1 Axes>"
      ]
     },
     "metadata": {},
     "output_type": "display_data"
    }
   ],
   "source": [
    "sns.boxplot(x=train['output'], y=train[num_attribs[2]])"
   ]
  },
  {
   "cell_type": "code",
   "execution_count": 102,
   "id": "2b7312f4-b41f-47e9-a798-25155f80e2cc",
   "metadata": {},
   "outputs": [
    {
     "data": {
      "image/png": "[encoded data removed]",
      "text/plain": [
       "<Figure size 500x3000 with 6 Axes>"
      ]
     },
     "metadata": {},
     "output_type": "display_data"
    }
   ],
   "source": [
    "n_cat = 1\n",
    "n_cont = len(num_attribs)\n",
    "\n",
    "fig, axes = plt.subplots(nrows=n_cont, ncols=n_cat, figsize=(5*n_cat, 5*n_cont), sharex=False, sharey=False)\n",
    "\n",
    "for i, cont_col in enumerate(num_attribs):\n",
    "    sns.boxplot(x=train['output'], y=cont_col, data=train, ax=axes[i])\n",
    "    axes[i].set_title(f'{cont_col} by {\"output\"}')\n",
    "\n",
    "plt.tight_layout()\n",
    "plt.show()"
   ]
  },
  {
   "cell_type": "code",
   "execution_count": 103,
   "id": "5cfd89c9-b8bf-451f-a3cb-437dfc803530",
   "metadata": {},
   "outputs": [],
   "source": [
    "# Experiment with Attribute Combinations"
   ]
  },
  {
   "cell_type": "markdown",
   "id": "76d9ac45-6a86-4be3-a139-78de635a56ad",
   "metadata": {},
   "source": [
    "## <u>5.    Data Preprocessing</u>\n",
    "\ta.    Data Cleaning\n",
    "\tb.    Handling Text and Categorical Data (e.g., get_dummies)\n",
    "\tc.    Feature Scaling (standardize continuous values)"
   ]
  },
  {
   "cell_type": "code",
   "execution_count": 104,
   "id": "adf88088-9ad6-443a-9dce-1f24adc75fd2",
   "metadata": {},
   "outputs": [],
   "source": [
    "heart = train.drop(\"output\", axis=1) #X\n",
    "heart_labels = train[\"output\"].copy() #y"
   ]
  },
  {
   "cell_type": "code",
   "execution_count": 105,
   "id": "a264809b-6d35-4d45-b5d6-a6d712d13be7",
   "metadata": {},
   "outputs": [],
   "source": [
    "from sklearn.impute import SimpleImputer\n",
    "from sklearn.compose import ColumnTransformer\n",
    "from sklearn.pipeline import make_pipeline\n",
    "\n",
    "cat_attribs = ['sex', 'cp', 'exng', 'fbs','restecg','slp']\n",
    "num_attribs = ['age', 'trtbps', 'chol', 'thalachh', 'oldpeak', 'ca']\n",
    "\n",
    "num_pipeline = make_pipeline(\n",
    "    SimpleImputer(strategy=\"median\"), \n",
    "    # you may add log transformation if needed\n",
    "    StandardScaler()\n",
    ")\n",
    "\n",
    "cat_pipeline = make_pipeline(\n",
    "    SimpleImputer(strategy=\"most_frequent\"),\n",
    "    OneHotEncoder(handle_unknown=\"ignore\")\n",
    ")\n",
    "\n",
    "preprocessing = ColumnTransformer([\n",
    "    (\"num\", num_pipeline, num_attribs),\n",
    "    (\"cat\", cat_pipeline, cat_attribs),\n",
    "])"
   ]
  },
  {
   "cell_type": "code",
   "execution_count": 106,
   "id": "33d9bc80-a340-4700-8541-b613bb980092",
   "metadata": {},
   "outputs": [
    {
     "data": {
      "text/plain": [
       "array([[-1.35679832, -0.61685555,  0.91403366, ...,  0.        ,\n",
       "         0.        ,  1.        ],\n",
       "       [ 0.38508599,  1.1694912 ,  0.43952674, ...,  0.        ,\n",
       "         0.        ,  1.        ],\n",
       "       [-0.92132724,  1.1694912 , -0.30070405, ...,  0.        ,\n",
       "         1.        ,  0.        ],\n",
       "       ...,\n",
       "       [ 1.58263146,  1.76494012, -0.24376322, ...,  0.        ,\n",
       "         1.        ,  0.        ],\n",
       "       [-0.92132724, -0.61685555,  0.04094093, ...,  0.        ,\n",
       "         0.        ,  1.        ],\n",
       "       [ 0.92942484,  0.57404228, -0.98399402, ...,  0.        ,\n",
       "         0.        ,  1.        ]])"
      ]
     },
     "execution_count": 106,
     "metadata": {},
     "output_type": "execute_result"
    }
   ],
   "source": [
    "heart_prepared = preprocessing.fit_transform(heart)\n",
    "heart_prepared"
   ]
  },
  {
   "cell_type": "code",
   "execution_count": 107,
   "id": "1bccf8b4-5f98-4ff5-a60e-d4c3c9f93a25",
   "metadata": {},
   "outputs": [
    {
     "data": {
      "text/plain": [
       "ColumnTransformer(transformers=[('num',\n",
       "                                 Pipeline(steps=[('simpleimputer',\n",
       "                                                  SimpleImputer(strategy='median')),\n",
       "                                                 ('standardscaler',\n",
       "                                                  StandardScaler())]),\n",
       "                                 ['age', 'trtbps', 'chol', 'thalachh',\n",
       "                                  'oldpeak', 'ca']),\n",
       "                                ('cat',\n",
       "                                 Pipeline(steps=[('simpleimputer',\n",
       "                                                  SimpleImputer(strategy='most_frequent')),\n",
       "                                                 ('onehotencoder',\n",
       "                                                  OneHotEncoder(handle_unknown='ignore'))]),\n",
       "                                 ['sex', 'cp', 'exng', 'fbs', 'restecg',\n",
       "                                  'slp'])])"
      ]
     },
     "execution_count": 107,
     "metadata": {},
     "output_type": "execute_result"
    }
   ],
   "source": [
    "preprocessing"
   ]
  },
  {
   "cell_type": "code",
   "execution_count": 108,
   "id": "cc8a59f9-56ce-456f-842b-fcfbc23b7f57",
   "metadata": {},
   "outputs": [],
   "source": [
    "#preprocessing.get_feature_names_out()"
   ]
  },
  {
   "cell_type": "code",
   "execution_count": 109,
   "id": "e89beb0d-d97f-41ff-9367-eea6612ac8d1",
   "metadata": {},
   "outputs": [
    {
     "data": {
      "text/plain": [
       "array([0, 1, 1, 0, 1, 0, 0, 0, 1, 0, 0, 1, 0, 1, 0, 1, 1, 1, 0, 0, 1, 0,\n",
       "       0, 0, 1, 1, 0, 0, 0, 0, 0, 0, 0, 0, 0, 0, 0, 0, 1, 0, 0, 0, 1, 1,\n",
       "       0, 0, 0, 0, 1, 0, 1, 1, 0, 1, 0, 1, 0, 0, 1, 1, 1, 1, 1, 1, 1, 0,\n",
       "       1, 1, 1, 0, 0, 1, 1, 0, 0, 1, 0, 1, 1, 1, 1, 1, 0, 0, 0, 1, 0, 1,\n",
       "       1, 0, 0, 0, 0, 1, 0, 0, 1, 0, 1, 1, 0, 1, 0, 1, 0, 0, 0, 0, 0, 1,\n",
       "       0, 1, 0, 0, 1, 1, 0, 0, 1, 0, 0, 1, 0, 1, 0, 1, 1, 0, 1, 0, 1, 0,\n",
       "       0, 0, 0, 1, 1, 1, 0, 1, 1, 1, 0, 1, 0, 0, 0, 1, 0, 1, 1, 0, 0, 0,\n",
       "       0, 1, 0, 0, 1, 0, 0, 1, 0, 0, 0, 1, 1, 0, 0, 1, 0, 0, 1, 1, 0, 1,\n",
       "       1, 1, 1, 0, 0, 0, 1, 1, 1, 1, 0, 0, 1, 0, 1, 1, 1, 0, 0, 0, 0, 0,\n",
       "       0, 1, 0, 0, 0, 1, 1, 0, 0, 1, 1, 0, 1, 1, 0, 0, 1, 1, 1, 1, 1, 0,\n",
       "       0, 1, 1, 0, 0, 1, 1, 1, 0, 0, 0, 0, 0, 1, 0, 1, 0, 1, 0, 0, 1, 0])"
      ]
     },
     "execution_count": 109,
     "metadata": {},
     "output_type": "execute_result"
    }
   ],
   "source": [
    "from sklearn.preprocessing import LabelEncoder\n",
    "lencoder = LabelEncoder()\n",
    "lencoder.fit(heart_labels)\n",
    "heart_labels = lencoder.transform(heart_labels)\n",
    "heart_labels"
   ]
  },
  {
   "cell_type": "code",
   "execution_count": 110,
   "id": "a1d2536e-2875-443e-bf31-5d9bb73bd17f",
   "metadata": {},
   "outputs": [
    {
     "data": {
      "text/plain": [
       "array(['high', 'low'], dtype=object)"
      ]
     },
     "execution_count": 110,
     "metadata": {},
     "output_type": "execute_result"
    }
   ],
   "source": [
    "lencoder.classes_"
   ]
  },
  {
   "cell_type": "markdown",
   "id": "67aee214-6253-4da6-90b3-d8ffd704e766",
   "metadata": {},
   "source": [
    "## <u>6.    Modelling</u>\n",
    "\ta.    Apply few algorithms/models\n",
    "\tb.    Select few promising ones by evaluating them using validation set"
   ]
  },
  {
   "cell_type": "code",
   "execution_count": 111,
   "id": "61e597f1-bc83-4cea-aec7-0e595babe6df",
   "metadata": {},
   "outputs": [
    {
     "data": {
      "text/plain": [
       "Pipeline(steps=[('columntransformer',\n",
       "                 ColumnTransformer(transformers=[('num',\n",
       "                                                  Pipeline(steps=[('simpleimputer',\n",
       "                                                                   SimpleImputer(strategy='median')),\n",
       "                                                                  ('standardscaler',\n",
       "                                                                   StandardScaler())]),\n",
       "                                                  ['age', 'trtbps', 'chol',\n",
       "                                                   'thalachh', 'oldpeak',\n",
       "                                                   'ca']),\n",
       "                                                 ('cat',\n",
       "                                                  Pipeline(steps=[('simpleimputer',\n",
       "                                                                   SimpleImputer(strategy='most_frequent')),\n",
       "                                                                  ('onehotencoder',\n",
       "                                                                   OneHotEncoder(handle_unknown='ignore'))]),\n",
       "                                                  ['sex', 'cp', 'exng', 'fbs',\n",
       "                                                   'restecg', 'slp'])])),\n",
       "                ('decisiontreeclassifier',\n",
       "                 DecisionTreeClassifier(random_state=42))])"
      ]
     },
     "execution_count": 111,
     "metadata": {},
     "output_type": "execute_result"
    }
   ],
   "source": [
    "from sklearn.tree import DecisionTreeClassifier\n",
    "from sklearn.model_selection import cross_val_score\n",
    "\n",
    "tree_clf = make_pipeline(preprocessing, DecisionTreeClassifier(random_state=42))\n",
    "tree_clf"
   ]
  },
  {
   "cell_type": "code",
   "execution_count": 112,
   "id": "37aa9751-4a9f-4bf0-8982-befe2d1addaf",
   "metadata": {},
   "outputs": [
    {
     "data": {
      "text/plain": [
       "array([0.76      , 0.8       , 0.79166667, 0.79166667, 0.66666667,\n",
       "       0.54166667, 0.625     , 0.625     , 0.875     , 0.66666667])"
      ]
     },
     "execution_count": 112,
     "metadata": {},
     "output_type": "execute_result"
    }
   ],
   "source": [
    "tree_acc = cross_val_score(tree_clf, \n",
    "                              heart, heart_labels,\n",
    "                              scoring=\"accuracy\", \n",
    "                              cv=10)\n",
    "\n",
    "tree_acc"
   ]
  },
  {
   "cell_type": "code",
   "execution_count": 113,
   "id": "ae457701-ae99-46c0-a8a4-6994390ed96d",
   "metadata": {},
   "outputs": [
    {
     "data": {
      "text/plain": [
       "count    10.000000\n",
       "mean      0.714333\n",
       "std       0.104093\n",
       "min       0.541667\n",
       "25%       0.635417\n",
       "50%       0.713333\n",
       "75%       0.791667\n",
       "max       0.875000\n",
       "dtype: float64"
      ]
     },
     "execution_count": 113,
     "metadata": {},
     "output_type": "execute_result"
    }
   ],
   "source": [
    "pd.Series(tree_acc).describe()"
   ]
  },
  {
   "cell_type": "code",
   "execution_count": 114,
   "id": "90ffc2b9-456e-4cb2-80ad-3450ad2ae86a",
   "metadata": {},
   "outputs": [
    {
     "data": {
      "text/plain": [
       "Pipeline(steps=[('columntransformer',\n",
       "                 ColumnTransformer(transformers=[('num',\n",
       "                                                  Pipeline(steps=[('simpleimputer',\n",
       "                                                                   SimpleImputer(strategy='median')),\n",
       "                                                                  ('standardscaler',\n",
       "                                                                   StandardScaler())]),\n",
       "                                                  ['age', 'trtbps', 'chol',\n",
       "                                                   'thalachh', 'oldpeak',\n",
       "                                                   'ca']),\n",
       "                                                 ('cat',\n",
       "                                                  Pipeline(steps=[('simpleimputer',\n",
       "                                                                   SimpleImputer(strategy='most_frequent')),\n",
       "                                                                  ('onehotencoder',\n",
       "                                                                   OneHotEncoder(handle_unknown='ignore'))]),\n",
       "                                                  ['sex', 'cp', 'exng', 'fbs',\n",
       "                                                   'restecg', 'slp'])])),\n",
       "                ('logisticregression', LogisticRegression(random_state=42))])"
      ]
     },
     "execution_count": 114,
     "metadata": {},
     "output_type": "execute_result"
    }
   ],
   "source": [
    "from sklearn.model_selection import cross_val_score\n",
    "\n",
    "log_reg = make_pipeline(preprocessing, LogisticRegression(random_state=42))\n",
    "log_reg"
   ]
  },
  {
   "cell_type": "code",
   "execution_count": 115,
   "id": "56272016-9ab8-4f20-842e-321ae079bbdc",
   "metadata": {},
   "outputs": [
    {
     "name": "stdout",
     "output_type": "stream",
     "text": [
      "[0.8        0.8        0.875      0.83333333 0.83333333 0.70833333\n",
      " 0.79166667 0.91666667 0.75       0.79166667]\n",
      "0.8099999999999999 0.05612486080160911\n"
     ]
    }
   ],
   "source": [
    "log_scores = cross_val_score(log_reg, \n",
    "                            heart, heart_labels,\n",
    "                            cv=10)\n",
    "print(log_scores)\n",
    "print(log_scores.mean(), log_scores.std())"
   ]
  },
  {
   "cell_type": "markdown",
   "id": "374ecee6-636e-49bd-97f3-59651c6efffd",
   "metadata": {},
   "source": [
    "## <u>7.    Fine tune the short-listed models</u>"
   ]
  },
  {
   "cell_type": "code",
   "execution_count": 116,
   "id": "9b2f8038-22d0-49d5-8762-45e758b753d8",
   "metadata": {},
   "outputs": [
    {
     "data": {
      "text/plain": [
       "Pipeline(steps=[('preprocessing',\n",
       "                 ColumnTransformer(transformers=[('num',\n",
       "                                                  Pipeline(steps=[('simpleimputer',\n",
       "                                                                   SimpleImputer(strategy='median')),\n",
       "                                                                  ('standardscaler',\n",
       "                                                                   StandardScaler())]),\n",
       "                                                  ['age', 'trtbps', 'chol',\n",
       "                                                   'thalachh', 'oldpeak',\n",
       "                                                   'ca']),\n",
       "                                                 ('cat',\n",
       "                                                  Pipeline(steps=[('simpleimputer',\n",
       "                                                                   SimpleImputer(strategy='most_frequent')),\n",
       "                                                                  ('onehotencoder',\n",
       "                                                                   OneHotEncoder(handle_unknown='ignore'))]),\n",
       "                                                  ['sex', 'cp', 'exng', 'fbs',\n",
       "                                                   'restecg', 'slp'])])),\n",
       "                ('decision_tree', DecisionTreeClassifier(random_state=42))])"
      ]
     },
     "execution_count": 116,
     "metadata": {},
     "output_type": "execute_result"
    }
   ],
   "source": [
    "from sklearn.model_selection import GridSearchCV\n",
    "from sklearn.pipeline import Pipeline\n",
    "\n",
    "dt_full_pipeline = Pipeline([\n",
    "    (\"preprocessing\", preprocessing),\n",
    "    (\"decision_tree\", DecisionTreeClassifier(random_state=42)),\n",
    "])\n",
    "\n",
    "dt_full_pipeline"
   ]
  },
  {
   "cell_type": "code",
   "execution_count": 117,
   "id": "1992945b-f63b-4d07-bf67-3738e64b97fa",
   "metadata": {},
   "outputs": [
    {
     "data": {
      "text/plain": [
       "GridSearchCV(cv=2,\n",
       "             estimator=Pipeline(steps=[('preprocessing',\n",
       "                                        ColumnTransformer(transformers=[('num',\n",
       "                                                                         Pipeline(steps=[('simpleimputer',\n",
       "                                                                                          SimpleImputer(strategy='median')),\n",
       "                                                                                         ('standardscaler',\n",
       "                                                                                          StandardScaler())]),\n",
       "                                                                         ['age',\n",
       "                                                                          'trtbps',\n",
       "                                                                          'chol',\n",
       "                                                                          'thalachh',\n",
       "                                                                          'oldpeak',\n",
       "                                                                          'ca']),\n",
       "                                                                        ('cat',\n",
       "                                                                         Pipeline(steps=[('simpleimputer',\n",
       "                                                                                          SimpleImputer(strategy='most_frequent')),\n",
       "                                                                                         ('onehotencoder',\n",
       "                                                                                          OneHotEncoder(handle_unknown='ignore'))]),\n",
       "                                                                         ['sex',\n",
       "                                                                          'cp',\n",
       "                                                                          'exng',\n",
       "                                                                          'fbs',\n",
       "                                                                          'restecg',\n",
       "                                                                          'slp'])])),\n",
       "                                       ('decision_tree',\n",
       "                                        DecisionTreeClassifier(random_state=42))]),\n",
       "             param_grid=[{'decision_tree__criterion': ['gini', 'entropy'],\n",
       "                          'decision_tree__max_depth': [1, 2, 3, 4, 6, 8]}],\n",
       "             scoring='accuracy')"
      ]
     },
     "execution_count": 117,
     "metadata": {},
     "output_type": "execute_result"
    }
   ],
   "source": [
    "param_grid = [\n",
    "    {'decision_tree__max_depth': [1, 2, 3, 4, 6, 8],\n",
    "     'decision_tree__criterion': ['gini', 'entropy']}\n",
    "]\n",
    "\n",
    "grid_tree = GridSearchCV(dt_full_pipeline, param_grid, cv=2,\n",
    "                           scoring='accuracy')\n",
    "\n",
    "grid_tree.fit(heart, heart_labels)"
   ]
  },
  {
   "cell_type": "code",
   "execution_count": 118,
   "id": "5168a774-27e1-49b1-943e-a3cfb64948b8",
   "metadata": {},
   "outputs": [
    {
     "name": "stdout",
     "output_type": "stream",
     "text": [
      "tuned hpyerparameters :(best parameters)  {'decision_tree__criterion': 'gini', 'decision_tree__max_depth': 6}\n",
      "accuracy : 0.7272727272727273\n"
     ]
    }
   ],
   "source": [
    "print(\"tuned hpyerparameters :(best parameters) \",grid_tree.best_params_)\n",
    "print(\"accuracy :\",grid_tree.best_score_)"
   ]
  },
  {
   "cell_type": "code",
   "execution_count": 119,
   "id": "49b06f60-fb1f-4f6b-9ebb-8e05c55198d2",
   "metadata": {},
   "outputs": [
    {
     "data": {
      "text/plain": [
       "Pipeline(steps=[('preprocessing',\n",
       "                 ColumnTransformer(transformers=[('num',\n",
       "                                                  Pipeline(steps=[('simpleimputer',\n",
       "                                                                   SimpleImputer(strategy='median')),\n",
       "                                                                  ('standardscaler',\n",
       "                                                                   StandardScaler())]),\n",
       "                                                  ['age', 'trtbps', 'chol',\n",
       "                                                   'thalachh', 'oldpeak',\n",
       "                                                   'ca']),\n",
       "                                                 ('cat',\n",
       "                                                  Pipeline(steps=[('simpleimputer',\n",
       "                                                                   SimpleImputer(strategy='most_frequent')),\n",
       "                                                                  ('onehotencoder',\n",
       "                                                                   OneHotEncoder(handle_unknown='ignore'))]),\n",
       "                                                  ['sex', 'cp', 'exng', 'fbs',\n",
       "                                                   'restecg', 'slp'])])),\n",
       "                ('log_reg', LogisticRegression(max_iter=2000))])"
      ]
     },
     "execution_count": 119,
     "metadata": {},
     "output_type": "execute_result"
    }
   ],
   "source": [
    "log_full_pipeline = Pipeline([\n",
    "    (\"preprocessing\", preprocessing),\n",
    "    (\"log_reg\", LogisticRegression(max_iter=2000)),\n",
    "])\n",
    "\n",
    "log_full_pipeline"
   ]
  },
  {
   "cell_type": "code",
   "execution_count": 120,
   "id": "39c907fc-8144-410a-a3eb-3158a57b56bf",
   "metadata": {},
   "outputs": [
    {
     "data": {
      "text/plain": [
       "GridSearchCV(cv=2,\n",
       "             estimator=Pipeline(steps=[('preprocessing',\n",
       "                                        ColumnTransformer(transformers=[('num',\n",
       "                                                                         Pipeline(steps=[('simpleimputer',\n",
       "                                                                                          SimpleImputer(strategy='median')),\n",
       "                                                                                         ('standardscaler',\n",
       "                                                                                          StandardScaler())]),\n",
       "                                                                         ['age',\n",
       "                                                                          'trtbps',\n",
       "                                                                          'chol',\n",
       "                                                                          'thalachh',\n",
       "                                                                          'oldpeak',\n",
       "                                                                          'ca']),\n",
       "                                                                        ('cat',\n",
       "                                                                         Pipeline(steps=[('simpleimputer',\n",
       "                                                                                          SimpleImputer(strategy='most_frequent')),\n",
       "                                                                                         ('onehotencoder',\n",
       "                                                                                          OneHotEncoder(handle_unknown='ignore'))]),\n",
       "                                                                         ['sex',\n",
       "                                                                          'cp',\n",
       "                                                                          'exng',\n",
       "                                                                          'fbs',\n",
       "                                                                          'restecg',\n",
       "                                                                          'slp'])])),\n",
       "                                       ('log_reg',\n",
       "                                        LogisticRegression(max_iter=2000))]),\n",
       "             param_grid=[{'log_reg__C': [0.01, 0.1, 1]}], scoring='accuracy')"
      ]
     },
     "execution_count": 120,
     "metadata": {},
     "output_type": "execute_result"
    }
   ],
   "source": [
    "param_grid = [\n",
    "    {'log_reg__C': [0.01, 0.1, 1]}\n",
    "]\n",
    "\n",
    "grid_log = GridSearchCV(log_full_pipeline, param_grid, cv=2,\n",
    "                           scoring='accuracy')\n",
    "\n",
    "grid_log.fit(heart, heart_labels)"
   ]
  },
  {
   "cell_type": "code",
   "execution_count": 121,
   "id": "0e69685e-cb85-44bc-a10c-1651649eb85f",
   "metadata": {},
   "outputs": [
    {
     "name": "stdout",
     "output_type": "stream",
     "text": [
      "tuned hpyerparameters :(best parameters)  {'log_reg__C': 0.1}\n",
      "accuracy : 0.78099173553719\n"
     ]
    }
   ],
   "source": [
    "print(\"tuned hpyerparameters :(best parameters) \",grid_log.best_params_)\n",
    "print(\"accuracy :\",grid_log.best_score_)"
   ]
  },
  {
   "cell_type": "code",
   "execution_count": 122,
   "id": "cc776df8-2dc1-4dd9-ad72-10eaa15a4aca",
   "metadata": {},
   "outputs": [],
   "source": [
    "# we can apply ensemble learning to make a better classifier\n",
    "log_final_model = grid_log.best_estimator_ # includes preprocessing"
   ]
  },
  {
   "cell_type": "code",
   "execution_count": 124,
   "id": "27aee2ad-d967-4d60-abf2-94a52eabe017",
   "metadata": {},
   "outputs": [
    {
     "data": {
      "text/plain": [
       "Pipeline(steps=[('preprocessing',\n",
       "                 ColumnTransformer(transformers=[('num',\n",
       "                                                  Pipeline(steps=[('simpleimputer',\n",
       "                                                                   SimpleImputer(strategy='median')),\n",
       "                                                                  ('standardscaler',\n",
       "                                                                   StandardScaler())]),\n",
       "                                                  ['age', 'trtbps', 'chol',\n",
       "                                                   'thalachh', 'oldpeak',\n",
       "                                                   'ca']),\n",
       "                                                 ('cat',\n",
       "                                                  Pipeline(steps=[('simpleimputer',\n",
       "                                                                   SimpleImputer(strategy='most_frequent')),\n",
       "                                                                  ('onehotencoder',\n",
       "                                                                   OneHotEncoder(handle_unknown='ignore'))]),\n",
       "                                                  ['sex', 'cp', 'exng', 'fbs',\n",
       "                                                   'restecg', 'slp'])])),\n",
       "                ('log_reg', LogisticRegression(C=0.1, max_iter=2000))])"
      ]
     },
     "execution_count": 124,
     "metadata": {},
     "output_type": "execute_result"
    }
   ],
   "source": [
    "log_final_model"
   ]
  },
  {
   "cell_type": "markdown",
   "id": "c1568150-d633-41c4-b11e-10a1385d4cfd",
   "metadata": {},
   "source": [
    "<br/>\n",
    "<br/>\n",
    "\n",
    "## <u>8.    Evaluate Your System on the Test Set</u>"
   ]
  },
  {
   "cell_type": "code",
   "execution_count": 129,
   "id": "be7d8e57-c43e-47bc-a65d-e95048895051",
   "metadata": {},
   "outputs": [
    {
     "data": {
      "text/plain": [
       "0.8852459016393442"
      ]
     },
     "execution_count": 129,
     "metadata": {},
     "output_type": "execute_result"
    }
   ],
   "source": [
    "from sklearn.metrics import accuracy_score\n",
    "\n",
    "X_test = test.drop(\"output\", axis=1)\n",
    "y_test = test[\"output\"].copy()\n",
    "y_test = lencoder.transform(y_test)\n",
    "\n",
    "#without pipeline, you need to ensure that you apply data preprocessing into your test set\n",
    "\n",
    "final_predictions = log_final_model.predict(X_test)\n",
    "\n",
    "final_accuracy = accuracy_score(y_test, final_predictions)\n",
    "final_accuracy #test score"
   ]
  },
  {
   "cell_type": "code",
   "execution_count": null,
   "id": "be21ad1b-73a2-4d31-858b-d3b261113f27",
   "metadata": {},
   "outputs": [],
   "source": []
  }
 ],
 "metadata": {
  "kernelspec": {
   "display_name": "Python 3 (ipykernel)",
   "language": "python",
   "name": "python3"
  },
  "language_info": {
   "codemirror_mode": {
    "name": "ipython",
    "version": 3
   },
   "file_extension": ".py",
   "mimetype": "text/x-python",
   "name": "python",
   "nbconvert_exporter": "python",
   "pygments_lexer": "ipython3",
   "version": "3.9.13"
  }
 },
 "nbformat": 4,
 "nbformat_minor": 5
}
